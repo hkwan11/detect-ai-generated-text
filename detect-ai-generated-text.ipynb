{
 "cells": [
  {
   "cell_type": "code",
   "execution_count": 1,
   "id": "c9459361",
   "metadata": {
    "_cell_guid": "b1076dfc-b9ad-4769-8c92-a6c4dae69d19",
    "_uuid": "8f2839f25d086af736a60e9eeb907d3b93b6e0e5",
    "execution": {
     "iopub.execute_input": "2023-12-10T23:46:26.230799Z",
     "iopub.status.busy": "2023-12-10T23:46:26.230374Z",
     "iopub.status.idle": "2023-12-10T23:46:27.128187Z",
     "shell.execute_reply": "2023-12-10T23:46:27.126929Z"
    },
    "papermill": {
     "duration": 0.910303,
     "end_time": "2023-12-10T23:46:27.130715",
     "exception": false,
     "start_time": "2023-12-10T23:46:26.220412",
     "status": "completed"
    },
    "tags": []
   },
   "outputs": [
    {
     "name": "stdout",
     "output_type": "stream",
     "text": [
      "/kaggle/input/llm-detect-ai-generated-text/sample_submission.csv\n",
      "/kaggle/input/llm-detect-ai-generated-text/train_prompts.csv\n",
      "/kaggle/input/llm-detect-ai-generated-text/test_essays.csv\n",
      "/kaggle/input/llm-detect-ai-generated-text/train_essays.csv\n"
     ]
    }
   ],
   "source": [
    "# This Python 3 environment comes with many helpful analytics libraries installed\n",
    "# It is defined by the kaggle/python Docker image: https://github.com/kaggle/docker-python\n",
    "# For example, here's several helpful packages to load\n",
    "\n",
    "import numpy as np # linear algebra\n",
    "import pandas as pd # data processing, CSV file I/O (e.g. pd.read_csv)\n",
    "\n",
    "# Input data files are available in the read-only \"../input/\" directory\n",
    "# For example, running this (by clicking run or pressing Shift+Enter) will list all files under the input directory\n",
    "\n",
    "import os\n",
    "for dirname, _, filenames in os.walk('/kaggle/input'):\n",
    "    for filename in filenames:\n",
    "        print(os.path.join(dirname, filename))\n",
    "\n",
    "# You can write up to 20GB to the current directory (/kaggle/working/) that gets preserved as output when you create a version using \"Save & Run All\" \n",
    "# You can also write temporary files to /kaggle/temp/, but they won't be saved outside of the current session"
   ]
  },
  {
   "cell_type": "markdown",
   "id": "51adaa94",
   "metadata": {
    "papermill": {
     "duration": 0.007855,
     "end_time": "2023-12-10T23:46:27.147902",
     "exception": false,
     "start_time": "2023-12-10T23:46:27.140047",
     "status": "completed"
    },
    "tags": []
   },
   "source": [
    "# Problem Description\n",
    "\n",
    "Recently large language models (LLMs) have become advanced and models like ChatGPT are able of generating text that is challenging to distinguish from that written by humans. The goal of this problem is to create transparency and encourage research on AI detection by looking at the real world and detecting AI techniques in environments like primary and secondary schools. It is increasingly prevalent that we see scenarios arise such that student assignments like school essays may contain paragraphs or even entire essays written entirely by AI instead of students themselves. Let's help to prevent plagiarism, while continuing to foster creativity and new types of learning using AI. The data has texts of moderate length and our goal again is to identify LLM artifacts and detect which texts are written by LLMs.\n",
    "\n",
    "# Data Description\n",
    "\n",
    "We have datasets with essays that are written by a combination of middle and high schools students, and some written using a large language model (LLM). These datasets are sourced from Kaggle at https://www.kaggle.com/competitions/llm-detect-ai-generated-text/data and the competition dataset comprises about 10,000 essays. The main dataset train_essays.csv is about 4.4 MB with 1378 rows and 4 columns, one of which contains the 'generated' feature that indicates 1 for essays written by LLMs and 0 for those written by humans."
   ]
  },
  {
   "cell_type": "markdown",
   "id": "f55d8558",
   "metadata": {
    "papermill": {
     "duration": 0.008364,
     "end_time": "2023-12-10T23:46:27.165154",
     "exception": false,
     "start_time": "2023-12-10T23:46:27.156790",
     "status": "completed"
    },
    "tags": []
   },
   "source": [
    "# Load data"
   ]
  },
  {
   "cell_type": "code",
   "execution_count": 2,
   "id": "99e72e77",
   "metadata": {
    "execution": {
     "iopub.execute_input": "2023-12-10T23:46:27.183443Z",
     "iopub.status.busy": "2023-12-10T23:46:27.182917Z",
     "iopub.status.idle": "2023-12-10T23:46:27.310558Z",
     "shell.execute_reply": "2023-12-10T23:46:27.309118Z"
    },
    "papermill": {
     "duration": 0.13994,
     "end_time": "2023-12-10T23:46:27.313249",
     "exception": false,
     "start_time": "2023-12-10T23:46:27.173309",
     "status": "completed"
    },
    "tags": []
   },
   "outputs": [],
   "source": [
    "train = pd.read_csv('/kaggle/input/llm-detect-ai-generated-text/train_essays.csv')\n",
    "test = pd.read_csv('/kaggle/input/llm-detect-ai-generated-text/test_essays.csv')\n",
    "prompts = pd.read_csv('/kaggle/input/llm-detect-ai-generated-text/train_prompts.csv')\n",
    "submission = pd.read_csv('/kaggle/input/llm-detect-ai-generated-text/sample_submission.csv')"
   ]
  },
  {
   "cell_type": "markdown",
   "id": "ba10a9aa",
   "metadata": {
    "papermill": {
     "duration": 0.008267,
     "end_time": "2023-12-10T23:46:27.330062",
     "exception": false,
     "start_time": "2023-12-10T23:46:27.321795",
     "status": "completed"
    },
    "tags": []
   },
   "source": [
    "# Exploratory Data Analysis (EDA)"
   ]
  },
  {
   "cell_type": "code",
   "execution_count": 3,
   "id": "92c3bb48",
   "metadata": {
    "execution": {
     "iopub.execute_input": "2023-12-10T23:46:27.348852Z",
     "iopub.status.busy": "2023-12-10T23:46:27.348431Z",
     "iopub.status.idle": "2023-12-10T23:46:27.381707Z",
     "shell.execute_reply": "2023-12-10T23:46:27.380536Z"
    },
    "papermill": {
     "duration": 0.045756,
     "end_time": "2023-12-10T23:46:27.384189",
     "exception": false,
     "start_time": "2023-12-10T23:46:27.338433",
     "status": "completed"
    },
    "tags": []
   },
   "outputs": [
    {
     "data": {
      "text/html": [
       "<div>\n",
       "<style scoped>\n",
       "    .dataframe tbody tr th:only-of-type {\n",
       "        vertical-align: middle;\n",
       "    }\n",
       "\n",
       "    .dataframe tbody tr th {\n",
       "        vertical-align: top;\n",
       "    }\n",
       "\n",
       "    .dataframe thead th {\n",
       "        text-align: right;\n",
       "    }\n",
       "</style>\n",
       "<table border=\"1\" class=\"dataframe\">\n",
       "  <thead>\n",
       "    <tr style=\"text-align: right;\">\n",
       "      <th></th>\n",
       "      <th>id</th>\n",
       "      <th>prompt_id</th>\n",
       "      <th>text</th>\n",
       "      <th>generated</th>\n",
       "    </tr>\n",
       "  </thead>\n",
       "  <tbody>\n",
       "    <tr>\n",
       "      <th>0</th>\n",
       "      <td>0059830c</td>\n",
       "      <td>0</td>\n",
       "      <td>Cars. Cars have been around since they became ...</td>\n",
       "      <td>0</td>\n",
       "    </tr>\n",
       "    <tr>\n",
       "      <th>1</th>\n",
       "      <td>005db917</td>\n",
       "      <td>0</td>\n",
       "      <td>Transportation is a large necessity in most co...</td>\n",
       "      <td>0</td>\n",
       "    </tr>\n",
       "    <tr>\n",
       "      <th>2</th>\n",
       "      <td>008f63e3</td>\n",
       "      <td>0</td>\n",
       "      <td>\"America's love affair with it's vehicles seem...</td>\n",
       "      <td>0</td>\n",
       "    </tr>\n",
       "    <tr>\n",
       "      <th>3</th>\n",
       "      <td>00940276</td>\n",
       "      <td>0</td>\n",
       "      <td>How often do you ride in a car? Do you drive a...</td>\n",
       "      <td>0</td>\n",
       "    </tr>\n",
       "    <tr>\n",
       "      <th>4</th>\n",
       "      <td>00c39458</td>\n",
       "      <td>0</td>\n",
       "      <td>Cars are a wonderful thing. They are perhaps o...</td>\n",
       "      <td>0</td>\n",
       "    </tr>\n",
       "  </tbody>\n",
       "</table>\n",
       "</div>"
      ],
      "text/plain": [
       "         id  prompt_id                                               text  \\\n",
       "0  0059830c          0  Cars. Cars have been around since they became ...   \n",
       "1  005db917          0  Transportation is a large necessity in most co...   \n",
       "2  008f63e3          0  \"America's love affair with it's vehicles seem...   \n",
       "3  00940276          0  How often do you ride in a car? Do you drive a...   \n",
       "4  00c39458          0  Cars are a wonderful thing. They are perhaps o...   \n",
       "\n",
       "   generated  \n",
       "0          0  \n",
       "1          0  \n",
       "2          0  \n",
       "3          0  \n",
       "4          0  "
      ]
     },
     "execution_count": 3,
     "metadata": {},
     "output_type": "execute_result"
    }
   ],
   "source": [
    "train.head()"
   ]
  },
  {
   "cell_type": "code",
   "execution_count": 4,
   "id": "75740c88",
   "metadata": {
    "execution": {
     "iopub.execute_input": "2023-12-10T23:46:27.403550Z",
     "iopub.status.busy": "2023-12-10T23:46:27.402785Z",
     "iopub.status.idle": "2023-12-10T23:46:27.413820Z",
     "shell.execute_reply": "2023-12-10T23:46:27.412713Z"
    },
    "papermill": {
     "duration": 0.023241,
     "end_time": "2023-12-10T23:46:27.416087",
     "exception": false,
     "start_time": "2023-12-10T23:46:27.392846",
     "status": "completed"
    },
    "tags": []
   },
   "outputs": [
    {
     "data": {
      "text/html": [
       "<div>\n",
       "<style scoped>\n",
       "    .dataframe tbody tr th:only-of-type {\n",
       "        vertical-align: middle;\n",
       "    }\n",
       "\n",
       "    .dataframe tbody tr th {\n",
       "        vertical-align: top;\n",
       "    }\n",
       "\n",
       "    .dataframe thead th {\n",
       "        text-align: right;\n",
       "    }\n",
       "</style>\n",
       "<table border=\"1\" class=\"dataframe\">\n",
       "  <thead>\n",
       "    <tr style=\"text-align: right;\">\n",
       "      <th></th>\n",
       "      <th>prompt_id</th>\n",
       "      <th>prompt_name</th>\n",
       "      <th>instructions</th>\n",
       "      <th>source_text</th>\n",
       "    </tr>\n",
       "  </thead>\n",
       "  <tbody>\n",
       "    <tr>\n",
       "      <th>0</th>\n",
       "      <td>0</td>\n",
       "      <td>Car-free cities</td>\n",
       "      <td>Write an explanatory essay to inform fellow ci...</td>\n",
       "      <td># In German Suburb, Life Goes On Without Cars ...</td>\n",
       "    </tr>\n",
       "    <tr>\n",
       "      <th>1</th>\n",
       "      <td>1</td>\n",
       "      <td>Does the electoral college work?</td>\n",
       "      <td>Write a letter to your state senator in which ...</td>\n",
       "      <td># What Is the Electoral College? by the Office...</td>\n",
       "    </tr>\n",
       "  </tbody>\n",
       "</table>\n",
       "</div>"
      ],
      "text/plain": [
       "   prompt_id                       prompt_name  \\\n",
       "0          0                   Car-free cities   \n",
       "1          1  Does the electoral college work?   \n",
       "\n",
       "                                        instructions  \\\n",
       "0  Write an explanatory essay to inform fellow ci...   \n",
       "1  Write a letter to your state senator in which ...   \n",
       "\n",
       "                                         source_text  \n",
       "0  # In German Suburb, Life Goes On Without Cars ...  \n",
       "1  # What Is the Electoral College? by the Office...  "
      ]
     },
     "execution_count": 4,
     "metadata": {},
     "output_type": "execute_result"
    }
   ],
   "source": [
    "prompts.head()"
   ]
  },
  {
   "cell_type": "code",
   "execution_count": 5,
   "id": "1d3c467c",
   "metadata": {
    "execution": {
     "iopub.execute_input": "2023-12-10T23:46:27.435324Z",
     "iopub.status.busy": "2023-12-10T23:46:27.434521Z",
     "iopub.status.idle": "2023-12-10T23:46:27.441607Z",
     "shell.execute_reply": "2023-12-10T23:46:27.440653Z"
    },
    "papermill": {
     "duration": 0.019132,
     "end_time": "2023-12-10T23:46:27.443778",
     "exception": false,
     "start_time": "2023-12-10T23:46:27.424646",
     "status": "completed"
    },
    "tags": []
   },
   "outputs": [
    {
     "data": {
      "text/plain": [
       "6"
      ]
     },
     "execution_count": 5,
     "metadata": {},
     "output_type": "execute_result"
    }
   ],
   "source": [
    "train['text'][0].count('\\n')"
   ]
  },
  {
   "cell_type": "code",
   "execution_count": 6,
   "id": "ecb22753",
   "metadata": {
    "execution": {
     "iopub.execute_input": "2023-12-10T23:46:27.463907Z",
     "iopub.status.busy": "2023-12-10T23:46:27.463499Z",
     "iopub.status.idle": "2023-12-10T23:46:27.477789Z",
     "shell.execute_reply": "2023-12-10T23:46:27.476372Z"
    },
    "papermill": {
     "duration": 0.027449,
     "end_time": "2023-12-10T23:46:27.480166",
     "exception": false,
     "start_time": "2023-12-10T23:46:27.452717",
     "status": "completed"
    },
    "tags": []
   },
   "outputs": [],
   "source": [
    "train['text'] = train['text'].str.replace('\\n', ' ')\n",
    "test['text'] = test['text'].str.replace('\\n', ' ')"
   ]
  },
  {
   "cell_type": "markdown",
   "id": "2ce04f20",
   "metadata": {
    "papermill": {
     "duration": 0.008419,
     "end_time": "2023-12-10T23:46:27.497732",
     "exception": false,
     "start_time": "2023-12-10T23:46:27.489313",
     "status": "completed"
    },
    "tags": []
   },
   "source": [
    "## Imports"
   ]
  },
  {
   "cell_type": "code",
   "execution_count": 7,
   "id": "331bcafe",
   "metadata": {
    "execution": {
     "iopub.execute_input": "2023-12-10T23:46:27.517229Z",
     "iopub.status.busy": "2023-12-10T23:46:27.516315Z",
     "iopub.status.idle": "2023-12-10T23:46:47.872775Z",
     "shell.execute_reply": "2023-12-10T23:46:47.871466Z"
    },
    "papermill": {
     "duration": 20.369203,
     "end_time": "2023-12-10T23:46:47.875672",
     "exception": false,
     "start_time": "2023-12-10T23:46:27.506469",
     "status": "completed"
    },
    "tags": []
   },
   "outputs": [],
   "source": [
    "\n",
    "from sklearn.feature_extraction.text import TfidfVectorizer\n",
    "from sklearn.metrics import f1_score, accuracy_score, roc_auc_score\n",
    "from sklearn.feature_selection import SelectKBest, chi2, f_classif\n",
    "from sklearn.model_selection import train_test_split\n",
    "\n",
    "\n",
    "from tokenizers import (\n",
    "    decoders,\n",
    "    models,\n",
    "    normalizers,\n",
    "    pre_tokenizers,\n",
    "    trainers,\n",
    "    Tokenizer,\n",
    ")\n",
    "\n",
    "from transformers import PreTrainedTokenizerFast\n",
    "\n",
    "import gc\n",
    "\n",
    "\n",
    "import tensorflow as tf\n",
    "from tensorflow.keras.layers import Input, Dense, Dropout\n",
    "from tensorflow.keras.models import Model, Sequential\n",
    "from tensorflow.keras.metrics import AUC\n",
    "from keras.callbacks import EarlyStopping\n",
    "from keras.models import load_model\n",
    "\n"
   ]
  },
  {
   "cell_type": "code",
   "execution_count": 8,
   "id": "b3fb580a",
   "metadata": {
    "execution": {
     "iopub.execute_input": "2023-12-10T23:46:47.897878Z",
     "iopub.status.busy": "2023-12-10T23:46:47.897104Z",
     "iopub.status.idle": "2023-12-10T23:46:47.904131Z",
     "shell.execute_reply": "2023-12-10T23:46:47.902839Z"
    },
    "papermill": {
     "duration": 0.020847,
     "end_time": "2023-12-10T23:46:47.906654",
     "exception": false,
     "start_time": "2023-12-10T23:46:47.885807",
     "status": "completed"
    },
    "tags": []
   },
   "outputs": [],
   "source": [
    "train = train.reset_index(drop=True)\n",
    "test = test.reset_index(drop=True)"
   ]
  },
  {
   "cell_type": "code",
   "execution_count": 9,
   "id": "b1011a8a",
   "metadata": {
    "execution": {
     "iopub.execute_input": "2023-12-10T23:46:47.927188Z",
     "iopub.status.busy": "2023-12-10T23:46:47.926765Z",
     "iopub.status.idle": "2023-12-10T23:46:47.938287Z",
     "shell.execute_reply": "2023-12-10T23:46:47.937090Z"
    },
    "papermill": {
     "duration": 0.024329,
     "end_time": "2023-12-10T23:46:47.940684",
     "exception": false,
     "start_time": "2023-12-10T23:46:47.916355",
     "status": "completed"
    },
    "tags": []
   },
   "outputs": [
    {
     "data": {
      "text/html": [
       "<div>\n",
       "<style scoped>\n",
       "    .dataframe tbody tr th:only-of-type {\n",
       "        vertical-align: middle;\n",
       "    }\n",
       "\n",
       "    .dataframe tbody tr th {\n",
       "        vertical-align: top;\n",
       "    }\n",
       "\n",
       "    .dataframe thead th {\n",
       "        text-align: right;\n",
       "    }\n",
       "</style>\n",
       "<table border=\"1\" class=\"dataframe\">\n",
       "  <thead>\n",
       "    <tr style=\"text-align: right;\">\n",
       "      <th></th>\n",
       "      <th>id</th>\n",
       "      <th>prompt_id</th>\n",
       "      <th>text</th>\n",
       "      <th>generated</th>\n",
       "    </tr>\n",
       "  </thead>\n",
       "  <tbody>\n",
       "    <tr>\n",
       "      <th>0</th>\n",
       "      <td>0059830c</td>\n",
       "      <td>0</td>\n",
       "      <td>Cars. Cars have been around since they became ...</td>\n",
       "      <td>0</td>\n",
       "    </tr>\n",
       "    <tr>\n",
       "      <th>1</th>\n",
       "      <td>005db917</td>\n",
       "      <td>0</td>\n",
       "      <td>Transportation is a large necessity in most co...</td>\n",
       "      <td>0</td>\n",
       "    </tr>\n",
       "    <tr>\n",
       "      <th>2</th>\n",
       "      <td>008f63e3</td>\n",
       "      <td>0</td>\n",
       "      <td>\"America's love affair with it's vehicles seem...</td>\n",
       "      <td>0</td>\n",
       "    </tr>\n",
       "    <tr>\n",
       "      <th>3</th>\n",
       "      <td>00940276</td>\n",
       "      <td>0</td>\n",
       "      <td>How often do you ride in a car? Do you drive a...</td>\n",
       "      <td>0</td>\n",
       "    </tr>\n",
       "    <tr>\n",
       "      <th>4</th>\n",
       "      <td>00c39458</td>\n",
       "      <td>0</td>\n",
       "      <td>Cars are a wonderful thing. They are perhaps o...</td>\n",
       "      <td>0</td>\n",
       "    </tr>\n",
       "  </tbody>\n",
       "</table>\n",
       "</div>"
      ],
      "text/plain": [
       "         id  prompt_id                                               text  \\\n",
       "0  0059830c          0  Cars. Cars have been around since they became ...   \n",
       "1  005db917          0  Transportation is a large necessity in most co...   \n",
       "2  008f63e3          0  \"America's love affair with it's vehicles seem...   \n",
       "3  00940276          0  How often do you ride in a car? Do you drive a...   \n",
       "4  00c39458          0  Cars are a wonderful thing. They are perhaps o...   \n",
       "\n",
       "   generated  \n",
       "0          0  \n",
       "1          0  \n",
       "2          0  \n",
       "3          0  \n",
       "4          0  "
      ]
     },
     "execution_count": 9,
     "metadata": {},
     "output_type": "execute_result"
    }
   ],
   "source": [
    "train.head()"
   ]
  },
  {
   "cell_type": "code",
   "execution_count": 10,
   "id": "e861f55b",
   "metadata": {
    "execution": {
     "iopub.execute_input": "2023-12-10T23:46:47.961670Z",
     "iopub.status.busy": "2023-12-10T23:46:47.960971Z",
     "iopub.status.idle": "2023-12-10T23:46:47.973805Z",
     "shell.execute_reply": "2023-12-10T23:46:47.972831Z"
    },
    "papermill": {
     "duration": 0.026975,
     "end_time": "2023-12-10T23:46:47.976804",
     "exception": false,
     "start_time": "2023-12-10T23:46:47.949829",
     "status": "completed"
    },
    "tags": []
   },
   "outputs": [
    {
     "name": "stdout",
     "output_type": "stream",
     "text": [
      "Generated By LLM : 3\n",
      "Written by a Student : 1375\n"
     ]
    }
   ],
   "source": [
    "\n",
    "print(\"Generated By LLM :\",train[train['generated']==1].shape[0])\n",
    "print(\"Written by a Student :\",train[train['generated']==0].shape[0])\n"
   ]
  },
  {
   "cell_type": "code",
   "execution_count": 11,
   "id": "9d18c399",
   "metadata": {
    "execution": {
     "iopub.execute_input": "2023-12-10T23:46:47.998642Z",
     "iopub.status.busy": "2023-12-10T23:46:47.997390Z",
     "iopub.status.idle": "2023-12-10T23:46:48.005284Z",
     "shell.execute_reply": "2023-12-10T23:46:48.003992Z"
    },
    "papermill": {
     "duration": 0.021662,
     "end_time": "2023-12-10T23:46:48.008148",
     "exception": false,
     "start_time": "2023-12-10T23:46:47.986486",
     "status": "completed"
    },
    "tags": []
   },
   "outputs": [],
   "source": [
    "written_human=train[train['generated']==0]\n",
    "written_LLM=train[train['generated']==1]"
   ]
  },
  {
   "cell_type": "code",
   "execution_count": 12,
   "id": "a8045900",
   "metadata": {
    "execution": {
     "iopub.execute_input": "2023-12-10T23:46:48.029036Z",
     "iopub.status.busy": "2023-12-10T23:46:48.028628Z",
     "iopub.status.idle": "2023-12-10T23:46:48.346327Z",
     "shell.execute_reply": "2023-12-10T23:46:48.345007Z"
    },
    "papermill": {
     "duration": 0.331289,
     "end_time": "2023-12-10T23:46:48.349358",
     "exception": false,
     "start_time": "2023-12-10T23:46:48.018069",
     "status": "completed"
    },
    "tags": []
   },
   "outputs": [
    {
     "data": {
      "text/plain": [
       "<Axes: >"
      ]
     },
     "execution_count": 12,
     "metadata": {},
     "output_type": "execute_result"
    },
    {
     "data": {
      "image/png": "[encoded data removed]",
      "text/plain": [
       "<Figure size 640x480 with 1 Axes>"
      ]
     },
     "metadata": {},
     "output_type": "display_data"
    }
   ],
   "source": [
    "\n",
    "# Human\n",
    "written_human['text'].str.len().hist() #string length\n"
   ]
  },
  {
   "cell_type": "code",
   "execution_count": 13,
   "id": "ff49bce2",
   "metadata": {
    "execution": {
     "iopub.execute_input": "2023-12-10T23:46:48.370998Z",
     "iopub.status.busy": "2023-12-10T23:46:48.370533Z",
     "iopub.status.idle": "2023-12-10T23:46:48.600670Z",
     "shell.execute_reply": "2023-12-10T23:46:48.599403Z"
    },
    "papermill": {
     "duration": 0.243887,
     "end_time": "2023-12-10T23:46:48.603241",
     "exception": false,
     "start_time": "2023-12-10T23:46:48.359354",
     "status": "completed"
    },
    "tags": []
   },
   "outputs": [
    {
     "data": {
      "text/plain": [
       "<Axes: >"
      ]
     },
     "execution_count": 13,
     "metadata": {},
     "output_type": "execute_result"
    },
    {
     "data": {
      "image/png": "[encoded data removed]",
      "text/plain": [
       "<Figure size 640x480 with 1 Axes>"
      ]
     },
     "metadata": {},
     "output_type": "display_data"
    }
   ],
   "source": [
    "written_LLM['text'].str.len().hist() #string length"
   ]
  },
  {
   "cell_type": "markdown",
   "id": "3116422a",
   "metadata": {
    "papermill": {
     "duration": 0.009408,
     "end_time": "2023-12-10T23:46:48.622547",
     "exception": false,
     "start_time": "2023-12-10T23:46:48.613139",
     "status": "completed"
    },
    "tags": []
   },
   "source": [
    "Here, we can see that LLMs wrote string length between approximately 1400 and 1800 whereas humans wrote string length essays between 1500 to about 7000.\n",
    "\n",
    "Humans' essays have more range of string length and the histogram decreases smoothly from 3000 to 7000 whereas the limited sample size of 3 for LLMs shows us that all samples were below a length of 2000 and seem randomized in length."
   ]
  },
  {
   "cell_type": "code",
   "execution_count": 14,
   "id": "91640de8",
   "metadata": {
    "execution": {
     "iopub.execute_input": "2023-12-10T23:46:48.644840Z",
     "iopub.status.busy": "2023-12-10T23:46:48.643885Z",
     "iopub.status.idle": "2023-12-10T23:46:49.006859Z",
     "shell.execute_reply": "2023-12-10T23:46:49.005455Z"
    },
    "papermill": {
     "duration": 0.377032,
     "end_time": "2023-12-10T23:46:49.009801",
     "exception": false,
     "start_time": "2023-12-10T23:46:48.632769",
     "status": "completed"
    },
    "tags": []
   },
   "outputs": [
    {
     "data": {
      "text/plain": [
       "<Axes: >"
      ]
     },
     "execution_count": 14,
     "metadata": {},
     "output_type": "execute_result"
    },
    {
     "data": {
      "image/png": "[encoded data removed]",
      "text/plain": [
       "<Figure size 640x480 with 1 Axes>"
      ]
     },
     "metadata": {},
     "output_type": "display_data"
    }
   ],
   "source": [
    "written_human['text'].str.split().map(lambda x: len(x)).hist()#number of words"
   ]
  },
  {
   "cell_type": "code",
   "execution_count": 15,
   "id": "d2430efd",
   "metadata": {
    "execution": {
     "iopub.execute_input": "2023-12-10T23:46:49.032278Z",
     "iopub.status.busy": "2023-12-10T23:46:49.031866Z",
     "iopub.status.idle": "2023-12-10T23:46:49.289550Z",
     "shell.execute_reply": "2023-12-10T23:46:49.288384Z"
    },
    "papermill": {
     "duration": 0.272024,
     "end_time": "2023-12-10T23:46:49.292291",
     "exception": false,
     "start_time": "2023-12-10T23:46:49.020267",
     "status": "completed"
    },
    "tags": []
   },
   "outputs": [
    {
     "data": {
      "text/plain": [
       "<Axes: >"
      ]
     },
     "execution_count": 15,
     "metadata": {},
     "output_type": "execute_result"
    },
    {
     "data": {
      "image/png": "[encoded data removed]",
      "text/plain": [
       "<Figure size 640x480 with 1 Axes>"
      ]
     },
     "metadata": {},
     "output_type": "display_data"
    }
   ],
   "source": [
    "written_LLM['text'].str.split().map(lambda x: len(x)).hist()#number of words"
   ]
  },
  {
   "cell_type": "markdown",
   "id": "6103700f",
   "metadata": {
    "papermill": {
     "duration": 0.01014,
     "end_time": "2023-12-10T23:46:49.313572",
     "exception": false,
     "start_time": "2023-12-10T23:46:49.303432",
     "status": "completed"
    },
    "tags": []
   },
   "source": [
    "# Preprocessing"
   ]
  },
  {
   "cell_type": "code",
   "execution_count": 16,
   "id": "e7a37a34",
   "metadata": {
    "execution": {
     "iopub.execute_input": "2023-12-10T23:46:49.337181Z",
     "iopub.status.busy": "2023-12-10T23:46:49.336520Z",
     "iopub.status.idle": "2023-12-10T23:46:49.345923Z",
     "shell.execute_reply": "2023-12-10T23:46:49.344853Z"
    },
    "papermill": {
     "duration": 0.023537,
     "end_time": "2023-12-10T23:46:49.348332",
     "exception": false,
     "start_time": "2023-12-10T23:46:49.324795",
     "status": "completed"
    },
    "tags": []
   },
   "outputs": [],
   "source": [
    "train_df, val_df = train_test_split(train, test_size=0.2, random_state=8, stratify=train['generated'])"
   ]
  },
  {
   "cell_type": "markdown",
   "id": "6ef0bc45",
   "metadata": {
    "papermill": {
     "duration": 0.010446,
     "end_time": "2023-12-10T23:46:49.435117",
     "exception": false,
     "start_time": "2023-12-10T23:46:49.424671",
     "status": "completed"
    },
    "tags": []
   },
   "source": [
    "## Create Tokenizers\n",
    "In this section, I train tokenizers from scratch by leveraging Hugging Face’s tokenizers package. Here I use the BPE algorithm, Byte Pair Encoding, which uses the frequency of subword patterns in order to create a shorter list for merging. It is able to generate unambiguous tokens."
   ]
  },
  {
   "cell_type": "code",
   "execution_count": 17,
   "id": "4386a7fe",
   "metadata": {
    "execution": {
     "iopub.execute_input": "2023-12-10T23:46:49.460296Z",
     "iopub.status.busy": "2023-12-10T23:46:49.459521Z",
     "iopub.status.idle": "2023-12-10T23:46:54.361183Z",
     "shell.execute_reply": "2023-12-10T23:46:54.359827Z"
    },
    "papermill": {
     "duration": 4.917838,
     "end_time": "2023-12-10T23:46:54.363977",
     "exception": false,
     "start_time": "2023-12-10T23:46:49.446139",
     "status": "completed"
    },
    "tags": []
   },
   "outputs": [
    {
     "name": "stdout",
     "output_type": "stream",
     "text": [
      "\n",
      "\n",
      "\n"
     ]
    }
   ],
   "source": [
    "tk = Tokenizer(models.BPE(unk_token=\"[UNK]\"))\n",
    "tk.pre_tokenizer = pre_tokenizers.ByteLevel()\n",
    "tk.normalizer = normalizers.Sequence([normalizers.NFD(), normalizers.Lowercase(),\n",
    "                                             normalizers.StripAccents()])\n",
    "\n",
    "trainer = trainers.BpeTrainer(vocab_size=30522, special_tokens=\n",
    "                              [\"[UNK]\", \"[CLS]\", \"[SEP]\", \"[PAD]\", \"[MASK]\"])\n",
    "\n",
    "data_for_tokenizer_train = train_df['text'].tolist()\n",
    "tk.train_from_iterator(data_for_tokenizer_train, trainer)\n",
    "\n",
    "tokenizer = PreTrainedTokenizerFast(\n",
    "    tokenizer_object=tk,\n",
    "    sep_token=\"[SEP]\",\n",
    "    pad_token=\"[PAD]\",\n",
    "    mask_token=\"[MASK]\",\n",
    "    unk_token=\"[UNK]\",\n",
    "    cls_token=\"[CLS]\",\n",
    ")\n",
    "\n",
    "train_df['text'] = train_df['text'].apply(\n",
    "    lambda x: tokenizer.tokenize(x, add_special_tokens=True))\n",
    "\n",
    "val_df['text'] = val_df['text'].apply(\n",
    "    lambda x: tokenizer.tokenize(x, add_special_tokens=True))\n",
    "\n",
    "\n",
    "test['text'] = test['text'].apply(\n",
    "    lambda x: tokenizer.tokenize(x, add_special_tokens=True))"
   ]
  },
  {
   "cell_type": "code",
   "execution_count": 18,
   "id": "99a0cc4d",
   "metadata": {
    "execution": {
     "iopub.execute_input": "2023-12-10T23:46:54.387921Z",
     "iopub.status.busy": "2023-12-10T23:46:54.387496Z",
     "iopub.status.idle": "2023-12-10T23:46:54.403506Z",
     "shell.execute_reply": "2023-12-10T23:46:54.402212Z"
    },
    "papermill": {
     "duration": 0.030827,
     "end_time": "2023-12-10T23:46:54.405901",
     "exception": false,
     "start_time": "2023-12-10T23:46:54.375074",
     "status": "completed"
    },
    "tags": []
   },
   "outputs": [
    {
     "data": {
      "text/html": [
       "<div>\n",
       "<style scoped>\n",
       "    .dataframe tbody tr th:only-of-type {\n",
       "        vertical-align: middle;\n",
       "    }\n",
       "\n",
       "    .dataframe tbody tr th {\n",
       "        vertical-align: top;\n",
       "    }\n",
       "\n",
       "    .dataframe thead th {\n",
       "        text-align: right;\n",
       "    }\n",
       "</style>\n",
       "<table border=\"1\" class=\"dataframe\">\n",
       "  <thead>\n",
       "    <tr style=\"text-align: right;\">\n",
       "      <th></th>\n",
       "      <th>id</th>\n",
       "      <th>prompt_id</th>\n",
       "      <th>text</th>\n",
       "      <th>generated</th>\n",
       "    </tr>\n",
       "  </thead>\n",
       "  <tbody>\n",
       "    <tr>\n",
       "      <th>0</th>\n",
       "      <td>0059830c</td>\n",
       "      <td>0</td>\n",
       "      <td>Cars. Cars have been around since they became ...</td>\n",
       "      <td>0</td>\n",
       "    </tr>\n",
       "    <tr>\n",
       "      <th>1</th>\n",
       "      <td>005db917</td>\n",
       "      <td>0</td>\n",
       "      <td>Transportation is a large necessity in most co...</td>\n",
       "      <td>0</td>\n",
       "    </tr>\n",
       "    <tr>\n",
       "      <th>2</th>\n",
       "      <td>008f63e3</td>\n",
       "      <td>0</td>\n",
       "      <td>\"America's love affair with it's vehicles seem...</td>\n",
       "      <td>0</td>\n",
       "    </tr>\n",
       "    <tr>\n",
       "      <th>3</th>\n",
       "      <td>00940276</td>\n",
       "      <td>0</td>\n",
       "      <td>How often do you ride in a car? Do you drive a...</td>\n",
       "      <td>0</td>\n",
       "    </tr>\n",
       "    <tr>\n",
       "      <th>4</th>\n",
       "      <td>00c39458</td>\n",
       "      <td>0</td>\n",
       "      <td>Cars are a wonderful thing. They are perhaps o...</td>\n",
       "      <td>0</td>\n",
       "    </tr>\n",
       "    <tr>\n",
       "      <th>...</th>\n",
       "      <td>...</td>\n",
       "      <td>...</td>\n",
       "      <td>...</td>\n",
       "      <td>...</td>\n",
       "    </tr>\n",
       "    <tr>\n",
       "      <th>1373</th>\n",
       "      <td>fe6ff9a5</td>\n",
       "      <td>1</td>\n",
       "      <td>There has been a fuss about the Elector Colleg...</td>\n",
       "      <td>0</td>\n",
       "    </tr>\n",
       "    <tr>\n",
       "      <th>1374</th>\n",
       "      <td>ff669174</td>\n",
       "      <td>0</td>\n",
       "      <td>Limiting car usage has many advantages. Such a...</td>\n",
       "      <td>0</td>\n",
       "    </tr>\n",
       "    <tr>\n",
       "      <th>1375</th>\n",
       "      <td>ffa247e0</td>\n",
       "      <td>0</td>\n",
       "      <td>There's a new trend that has been developing f...</td>\n",
       "      <td>0</td>\n",
       "    </tr>\n",
       "    <tr>\n",
       "      <th>1376</th>\n",
       "      <td>ffc237e9</td>\n",
       "      <td>0</td>\n",
       "      <td>As we all know cars are a big part of our soci...</td>\n",
       "      <td>0</td>\n",
       "    </tr>\n",
       "    <tr>\n",
       "      <th>1377</th>\n",
       "      <td>ffe1ca0d</td>\n",
       "      <td>0</td>\n",
       "      <td>Cars have been around since the 1800's and hav...</td>\n",
       "      <td>0</td>\n",
       "    </tr>\n",
       "  </tbody>\n",
       "</table>\n",
       "<p>1378 rows × 4 columns</p>\n",
       "</div>"
      ],
      "text/plain": [
       "            id  prompt_id                                               text  \\\n",
       "0     0059830c          0  Cars. Cars have been around since they became ...   \n",
       "1     005db917          0  Transportation is a large necessity in most co...   \n",
       "2     008f63e3          0  \"America's love affair with it's vehicles seem...   \n",
       "3     00940276          0  How often do you ride in a car? Do you drive a...   \n",
       "4     00c39458          0  Cars are a wonderful thing. They are perhaps o...   \n",
       "...        ...        ...                                                ...   \n",
       "1373  fe6ff9a5          1  There has been a fuss about the Elector Colleg...   \n",
       "1374  ff669174          0  Limiting car usage has many advantages. Such a...   \n",
       "1375  ffa247e0          0  There's a new trend that has been developing f...   \n",
       "1376  ffc237e9          0  As we all know cars are a big part of our soci...   \n",
       "1377  ffe1ca0d          0  Cars have been around since the 1800's and hav...   \n",
       "\n",
       "      generated  \n",
       "0             0  \n",
       "1             0  \n",
       "2             0  \n",
       "3             0  \n",
       "4             0  \n",
       "...         ...  \n",
       "1373          0  \n",
       "1374          0  \n",
       "1375          0  \n",
       "1376          0  \n",
       "1377          0  \n",
       "\n",
       "[1378 rows x 4 columns]"
      ]
     },
     "execution_count": 18,
     "metadata": {},
     "output_type": "execute_result"
    }
   ],
   "source": [
    "train"
   ]
  },
  {
   "cell_type": "code",
   "execution_count": 19,
   "id": "8cbeddae",
   "metadata": {
    "execution": {
     "iopub.execute_input": "2023-12-10T23:46:54.431435Z",
     "iopub.status.busy": "2023-12-10T23:46:54.430978Z",
     "iopub.status.idle": "2023-12-10T23:46:54.443373Z",
     "shell.execute_reply": "2023-12-10T23:46:54.442266Z"
    },
    "papermill": {
     "duration": 0.028382,
     "end_time": "2023-12-10T23:46:54.445931",
     "exception": false,
     "start_time": "2023-12-10T23:46:54.417549",
     "status": "completed"
    },
    "tags": []
   },
   "outputs": [
    {
     "data": {
      "text/html": [
       "<div>\n",
       "<style scoped>\n",
       "    .dataframe tbody tr th:only-of-type {\n",
       "        vertical-align: middle;\n",
       "    }\n",
       "\n",
       "    .dataframe tbody tr th {\n",
       "        vertical-align: top;\n",
       "    }\n",
       "\n",
       "    .dataframe thead th {\n",
       "        text-align: right;\n",
       "    }\n",
       "</style>\n",
       "<table border=\"1\" class=\"dataframe\">\n",
       "  <thead>\n",
       "    <tr style=\"text-align: right;\">\n",
       "      <th></th>\n",
       "      <th>id</th>\n",
       "      <th>prompt_id</th>\n",
       "      <th>text</th>\n",
       "    </tr>\n",
       "  </thead>\n",
       "  <tbody>\n",
       "    <tr>\n",
       "      <th>0</th>\n",
       "      <td>0000aaaa</td>\n",
       "      <td>2</td>\n",
       "      <td>[Ġa, aa, Ġb, b, b, Ġc, cc, .]</td>\n",
       "    </tr>\n",
       "    <tr>\n",
       "      <th>1</th>\n",
       "      <td>1111bbbb</td>\n",
       "      <td>3</td>\n",
       "      <td>[Ġb, b, b, Ġc, cc, Ġd, dd, .]</td>\n",
       "    </tr>\n",
       "    <tr>\n",
       "      <th>2</th>\n",
       "      <td>2222cccc</td>\n",
       "      <td>4</td>\n",
       "      <td>[Ġc, cc, Ġd, dd, Ġe, ee, .]</td>\n",
       "    </tr>\n",
       "  </tbody>\n",
       "</table>\n",
       "</div>"
      ],
      "text/plain": [
       "         id  prompt_id                           text\n",
       "0  0000aaaa          2  [Ġa, aa, Ġb, b, b, Ġc, cc, .]\n",
       "1  1111bbbb          3  [Ġb, b, b, Ġc, cc, Ġd, dd, .]\n",
       "2  2222cccc          4    [Ġc, cc, Ġd, dd, Ġe, ee, .]"
      ]
     },
     "execution_count": 19,
     "metadata": {},
     "output_type": "execute_result"
    }
   ],
   "source": [
    "test"
   ]
  },
  {
   "cell_type": "markdown",
   "id": "7122031b",
   "metadata": {
    "papermill": {
     "duration": 0.011097,
     "end_time": "2023-12-10T23:46:54.468474",
     "exception": false,
     "start_time": "2023-12-10T23:46:54.457377",
     "status": "completed"
    },
    "tags": []
   },
   "source": [
    "# Preprocessing with a TF-IDF Vectorizer"
   ]
  },
  {
   "cell_type": "markdown",
   "id": "b31df6b9",
   "metadata": {
    "papermill": {
     "duration": 0.010909,
     "end_time": "2023-12-10T23:46:54.490836",
     "exception": false,
     "start_time": "2023-12-10T23:46:54.479927",
     "status": "completed"
    },
    "tags": []
   },
   "source": [
    "The below textReturn function is for the tokenizer parameter in TfidfVectorizer. It returns the text as is since we already tokenized it."
   ]
  },
  {
   "cell_type": "code",
   "execution_count": 20,
   "id": "347b0865",
   "metadata": {
    "execution": {
     "iopub.execute_input": "2023-12-10T23:46:54.515342Z",
     "iopub.status.busy": "2023-12-10T23:46:54.514957Z",
     "iopub.status.idle": "2023-12-10T23:47:02.726927Z",
     "shell.execute_reply": "2023-12-10T23:47:02.725690Z"
    },
    "papermill": {
     "duration": 8.227725,
     "end_time": "2023-12-10T23:47:02.729789",
     "exception": false,
     "start_time": "2023-12-10T23:46:54.502064",
     "status": "completed"
    },
    "tags": []
   },
   "outputs": [],
   "source": [
    "def textReturn(text):\n",
    "    return text\n",
    "\n",
    "vect = TfidfVectorizer(ngram_range=(3, 5), tokenizer=textReturn, preprocessor=textReturn,\n",
    "                    sublinear_tf=True, token_pattern=None, lowercase=False,\n",
    "                    min_df=0.001)\n",
    "vect.fit(train_df['text'])\n",
    "vocab = vect.vocabulary_\n",
    "vect = TfidfVectorizer(ngram_range=(3, 5), tokenizer=textReturn, preprocessor=textReturn,\n",
    "                    sublinear_tf=True, token_pattern=None, lowercase=False,\n",
    "                    vocabulary=vocab)\n",
    "X_train = vect.fit_transform(train_df['text']).astype('float32')\n",
    "X_val = vect.fit_transform(val_df['text']).astype('float32')\n",
    "X_test = vect.fit_transform(test['text']).astype('float32')"
   ]
  },
  {
   "cell_type": "markdown",
   "id": "e3ac5d4d",
   "metadata": {
    "papermill": {
     "duration": 0.010921,
     "end_time": "2023-12-10T23:47:02.753230",
     "exception": false,
     "start_time": "2023-12-10T23:47:02.742309",
     "status": "completed"
    },
    "tags": []
   },
   "source": [
    "# Model Building"
   ]
  },
  {
   "cell_type": "code",
   "execution_count": 21,
   "id": "d63ae18b",
   "metadata": {
    "execution": {
     "iopub.execute_input": "2023-12-10T23:47:02.778239Z",
     "iopub.status.busy": "2023-12-10T23:47:02.777031Z",
     "iopub.status.idle": "2023-12-10T23:47:03.154644Z",
     "shell.execute_reply": "2023-12-10T23:47:03.153175Z"
    },
    "papermill": {
     "duration": 0.397248,
     "end_time": "2023-12-10T23:47:03.161821",
     "exception": false,
     "start_time": "2023-12-10T23:47:02.764573",
     "status": "completed"
    },
    "tags": []
   },
   "outputs": [
    {
     "name": "stdout",
     "output_type": "stream",
     "text": [
      "Model: \"sequential\"\n",
      "_________________________________________________________________\n",
      " Layer (type)                Output Shape              Param #   \n",
      "=================================================================\n",
      " dense (Dense)               (None, 32)                4417760   \n",
      "                                                                 \n",
      " dropout (Dropout)           (None, 32)                0         \n",
      "                                                                 \n",
      " dense_1 (Dense)             (None, 64)                2112      \n",
      "                                                                 \n",
      " dropout_1 (Dropout)         (None, 64)                0         \n",
      "                                                                 \n",
      " dense_2 (Dense)             (None, 32)                2080      \n",
      "                                                                 \n",
      " dropout_2 (Dropout)         (None, 32)                0         \n",
      "                                                                 \n",
      " dense_3 (Dense)             (None, 1)                 33        \n",
      "                                                                 \n",
      "=================================================================\n",
      "Total params: 4421985 (16.87 MB)\n",
      "Trainable params: 4421985 (16.87 MB)\n",
      "Non-trainable params: 0 (0.00 Byte)\n",
      "_________________________________________________________________\n"
     ]
    }
   ],
   "source": [
    "model = Sequential([\n",
    "    Input(shape=(X_train.shape[1],), sparse=True),\n",
    "    Dense(32, activation='relu', kernel_initializer='he_normal'),\n",
    "    Dropout(0.2),\n",
    "    Dense(64, activation='relu', kernel_initializer='he_normal'),\n",
    "    Dropout(0.3),\n",
    "    Dense(32, activation='relu', kernel_initializer='he_normal'),\n",
    "    Dropout(0.3),\n",
    "    Dense(1, activation='sigmoid')\n",
    "])\n",
    "\n",
    "model.compile(optimizer='adam', loss='binary_crossentropy', metrics=['accuracy', AUC()])\n",
    "\n",
    "model.summary()"
   ]
  },
  {
   "cell_type": "code",
   "execution_count": 22,
   "id": "0f11ceee",
   "metadata": {
    "execution": {
     "iopub.execute_input": "2023-12-10T23:47:03.189386Z",
     "iopub.status.busy": "2023-12-10T23:47:03.188976Z",
     "iopub.status.idle": "2023-12-10T23:47:11.566766Z",
     "shell.execute_reply": "2023-12-10T23:47:11.565307Z"
    },
    "papermill": {
     "duration": 8.394556,
     "end_time": "2023-12-10T23:47:11.569264",
     "exception": false,
     "start_time": "2023-12-10T23:47:03.174708",
     "status": "completed"
    },
    "tags": []
   },
   "outputs": [
    {
     "name": "stdout",
     "output_type": "stream",
     "text": [
      "Epoch 1/10\n",
      "9/9 [==============================] - 2s 73ms/step - loss: 0.6697 - accuracy: 0.8956 - auc: 0.3027\n",
      "Epoch 2/10\n",
      "9/9 [==============================] - 1s 75ms/step - loss: 0.5669 - accuracy: 0.9955 - auc: 0.7336\n",
      "Epoch 3/10\n",
      "9/9 [==============================] - 1s 57ms/step - loss: 0.4006 - accuracy: 0.9982 - auc: 0.8216\n",
      "Epoch 4/10\n",
      "9/9 [==============================] - 1s 55ms/step - loss: 0.2154 - accuracy: 0.9982 - auc: 0.9089\n",
      "Epoch 5/10\n",
      "9/9 [==============================] - 1s 59ms/step - loss: 0.0932 - accuracy: 0.9982 - auc: 0.9764\n",
      "Epoch 6/10\n",
      "9/9 [==============================] - 1s 57ms/step - loss: 0.0388 - accuracy: 0.9982 - auc: 0.9830\n",
      "Epoch 7/10\n",
      "9/9 [==============================] - 1s 62ms/step - loss: 0.0176 - accuracy: 0.9982 - auc: 0.9973\n",
      "Epoch 8/10\n",
      "9/9 [==============================] - 1s 55ms/step - loss: 0.0121 - accuracy: 0.9982 - auc: 0.9936\n",
      "Epoch 9/10\n",
      "9/9 [==============================] - 1s 59ms/step - loss: 0.0076 - accuracy: 0.9982 - auc: 0.9970\n",
      "Epoch 10/10\n",
      "9/9 [==============================] - 1s 57ms/step - loss: 0.0053 - accuracy: 0.9982 - auc: 1.0000\n",
      "9/9 [==============================] - 0s 5ms/step\n",
      "276\n"
     ]
    }
   ],
   "source": [
    "y_train = train_df['generated'].values\n",
    "early_stopping = tf.keras.callbacks.EarlyStopping(monitor='loss', patience=2)\n",
    "\n",
    "model.fit(X_train, y_train, batch_size=128, epochs=10, callbacks=[early_stopping])\n",
    "\n",
    "preds = model.predict(X_val)\n",
    "print(len(preds))"
   ]
  },
  {
   "cell_type": "code",
   "execution_count": 23,
   "id": "6dc62f28",
   "metadata": {
    "execution": {
     "iopub.execute_input": "2023-12-10T23:47:11.611436Z",
     "iopub.status.busy": "2023-12-10T23:47:11.610509Z",
     "iopub.status.idle": "2023-12-10T23:47:11.621214Z",
     "shell.execute_reply": "2023-12-10T23:47:11.619778Z"
    },
    "papermill": {
     "duration": 0.034321,
     "end_time": "2023-12-10T23:47:11.623574",
     "exception": false,
     "start_time": "2023-12-10T23:47:11.589253",
     "status": "completed"
    },
    "tags": []
   },
   "outputs": [
    {
     "name": "stdout",
     "output_type": "stream",
     "text": [
      "0.9963636363636363\n"
     ]
    }
   ],
   "source": [
    "y_val = val_df['generated'].values\n",
    "auc_score = roc_auc_score(y_val, preds)\n",
    "print(auc_score)"
   ]
  },
  {
   "cell_type": "code",
   "execution_count": 24,
   "id": "75914b3c",
   "metadata": {
    "execution": {
     "iopub.execute_input": "2023-12-10T23:47:11.665709Z",
     "iopub.status.busy": "2023-12-10T23:47:11.665264Z",
     "iopub.status.idle": "2023-12-10T23:47:11.688844Z",
     "shell.execute_reply": "2023-12-10T23:47:11.687682Z"
    },
    "papermill": {
     "duration": 0.04725,
     "end_time": "2023-12-10T23:47:11.691207",
     "exception": false,
     "start_time": "2023-12-10T23:47:11.643957",
     "status": "completed"
    },
    "tags": []
   },
   "outputs": [
    {
     "name": "stdout",
     "output_type": "stream",
     "text": [
      "1/1 [==============================] - 0s 10ms/step\n",
      "[[0.20093432]\n",
      " [0.20093432]\n",
      " [0.20093432]]\n"
     ]
    }
   ],
   "source": [
    "preds = model.predict(X_test)\n",
    "print(preds)"
   ]
  },
  {
   "cell_type": "code",
   "execution_count": 25,
   "id": "62b81395",
   "metadata": {
    "execution": {
     "iopub.execute_input": "2023-12-10T23:47:11.733485Z",
     "iopub.status.busy": "2023-12-10T23:47:11.733004Z",
     "iopub.status.idle": "2023-12-10T23:47:11.738503Z",
     "shell.execute_reply": "2023-12-10T23:47:11.737162Z"
    },
    "papermill": {
     "duration": 0.030076,
     "end_time": "2023-12-10T23:47:11.741075",
     "exception": false,
     "start_time": "2023-12-10T23:47:11.710999",
     "status": "completed"
    },
    "tags": []
   },
   "outputs": [],
   "source": [
    "submission['generated'] = preds"
   ]
  },
  {
   "cell_type": "code",
   "execution_count": 26,
   "id": "1fe115c1",
   "metadata": {
    "execution": {
     "iopub.execute_input": "2023-12-10T23:47:11.784057Z",
     "iopub.status.busy": "2023-12-10T23:47:11.783647Z",
     "iopub.status.idle": "2023-12-10T23:47:11.794794Z",
     "shell.execute_reply": "2023-12-10T23:47:11.793675Z"
    },
    "papermill": {
     "duration": 0.034746,
     "end_time": "2023-12-10T23:47:11.797141",
     "exception": false,
     "start_time": "2023-12-10T23:47:11.762395",
     "status": "completed"
    },
    "tags": []
   },
   "outputs": [
    {
     "data": {
      "text/html": [
       "<div>\n",
       "<style scoped>\n",
       "    .dataframe tbody tr th:only-of-type {\n",
       "        vertical-align: middle;\n",
       "    }\n",
       "\n",
       "    .dataframe tbody tr th {\n",
       "        vertical-align: top;\n",
       "    }\n",
       "\n",
       "    .dataframe thead th {\n",
       "        text-align: right;\n",
       "    }\n",
       "</style>\n",
       "<table border=\"1\" class=\"dataframe\">\n",
       "  <thead>\n",
       "    <tr style=\"text-align: right;\">\n",
       "      <th></th>\n",
       "      <th>id</th>\n",
       "      <th>generated</th>\n",
       "    </tr>\n",
       "  </thead>\n",
       "  <tbody>\n",
       "    <tr>\n",
       "      <th>0</th>\n",
       "      <td>0000aaaa</td>\n",
       "      <td>0.200934</td>\n",
       "    </tr>\n",
       "    <tr>\n",
       "      <th>1</th>\n",
       "      <td>1111bbbb</td>\n",
       "      <td>0.200934</td>\n",
       "    </tr>\n",
       "    <tr>\n",
       "      <th>2</th>\n",
       "      <td>2222cccc</td>\n",
       "      <td>0.200934</td>\n",
       "    </tr>\n",
       "  </tbody>\n",
       "</table>\n",
       "</div>"
      ],
      "text/plain": [
       "         id  generated\n",
       "0  0000aaaa   0.200934\n",
       "1  1111bbbb   0.200934\n",
       "2  2222cccc   0.200934"
      ]
     },
     "execution_count": 26,
     "metadata": {},
     "output_type": "execute_result"
    }
   ],
   "source": [
    "submission"
   ]
  },
  {
   "cell_type": "code",
   "execution_count": 27,
   "id": "d9624463",
   "metadata": {
    "execution": {
     "iopub.execute_input": "2023-12-10T23:47:11.839213Z",
     "iopub.status.busy": "2023-12-10T23:47:11.838784Z",
     "iopub.status.idle": "2023-12-10T23:47:11.849731Z",
     "shell.execute_reply": "2023-12-10T23:47:11.848760Z"
    },
    "papermill": {
     "duration": 0.035217,
     "end_time": "2023-12-10T23:47:11.852408",
     "exception": false,
     "start_time": "2023-12-10T23:47:11.817191",
     "status": "completed"
    },
    "tags": []
   },
   "outputs": [],
   "source": [
    "submission.to_csv('submission.csv', index=False)"
   ]
  },
  {
   "cell_type": "code",
   "execution_count": null,
   "id": "95489112",
   "metadata": {
    "papermill": {
     "duration": 0.020681,
     "end_time": "2023-12-10T23:47:11.893254",
     "exception": false,
     "start_time": "2023-12-10T23:47:11.872573",
     "status": "completed"
    },
    "tags": []
   },
   "outputs": [],
   "source": []
  }
 ],
 "metadata": {
  "kaggle": {
   "accelerator": "none",
   "dataSources": [
    {
     "databundleVersionId": 6888007,
     "sourceId": 61542,
     "sourceType": "competition"
    }
   ],
   "dockerImageVersionId": 30615,
   "isGpuEnabled": false,
   "isInternetEnabled": false,
   "language": "python",
   "sourceType": "notebook"
  },
  "kernelspec": {
   "display_name": "Python 3",
   "language": "python",
   "name": "python3"
  },
  "language_info": {
   "codemirror_mode": {
    "name": "ipython",
    "version": 3
   },
   "file_extension": ".py",
   "mimetype": "text/x-python",
   "name": "python",
   "nbconvert_exporter": "python",
   "pygments_lexer": "ipython3",
   "version": "3.10.12"
  },
  "papermill": {
   "default_parameters": {},
   "duration": 53.456395,
   "end_time": "2023-12-10T23:47:15.220421",
   "environment_variables": {},
   "exception": null,
   "input_path": "__notebook__.ipynb",
   "output_path": "__notebook__.ipynb",
   "parameters": {},
   "start_time": "2023-12-10T23:46:21.764026",
   "version": "2.4.0"
  }
 },
 "nbformat": 4,
 "nbformat_minor": 5
}
