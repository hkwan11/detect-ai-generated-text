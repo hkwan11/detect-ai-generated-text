{
 "cells": [
  {
   "cell_type": "code",
   "execution_count": 1,
   "id": "42d532d9",
   "metadata": {
    "_cell_guid": "b1076dfc-b9ad-4769-8c92-a6c4dae69d19",
    "_uuid": "8f2839f25d086af736a60e9eeb907d3b93b6e0e5",
    "execution": {
     "iopub.execute_input": "2023-12-10T22:25:49.567765Z",
     "iopub.status.busy": "2023-12-10T22:25:49.567312Z",
     "iopub.status.idle": "2023-12-10T22:25:50.046025Z",
     "shell.execute_reply": "2023-12-10T22:25:50.044699Z"
    },
    "papermill": {
     "duration": 0.493875,
     "end_time": "2023-12-10T22:25:50.049103",
     "exception": false,
     "start_time": "2023-12-10T22:25:49.555228",
     "status": "completed"
    },
    "tags": []
   },
   "outputs": [
    {
     "name": "stdout",
     "output_type": "stream",
     "text": [
      "/kaggle/input/llm-detect-ai-generated-text/sample_submission.csv\n",
      "/kaggle/input/llm-detect-ai-generated-text/train_prompts.csv\n",
      "/kaggle/input/llm-detect-ai-generated-text/test_essays.csv\n",
      "/kaggle/input/llm-detect-ai-generated-text/train_essays.csv\n"
     ]
    }
   ],
   "source": [
    "# This Python 3 environment comes with many helpful analytics libraries installed\n",
    "# It is defined by the kaggle/python Docker image: https://github.com/kaggle/docker-python\n",
    "# For example, here's several helpful packages to load\n",
    "\n",
    "import numpy as np # linear algebra\n",
    "import pandas as pd # data processing, CSV file I/O (e.g. pd.read_csv)\n",
    "\n",
    "# Input data files are available in the read-only \"../input/\" directory\n",
    "# For example, running this (by clicking run or pressing Shift+Enter) will list all files under the input directory\n",
    "\n",
    "import os\n",
    "for dirname, _, filenames in os.walk('/kaggle/input'):\n",
    "    for filename in filenames:\n",
    "        print(os.path.join(dirname, filename))\n",
    "\n",
    "# You can write up to 20GB to the current directory (/kaggle/working/) that gets preserved as output when you create a version using \"Save & Run All\" \n",
    "# You can also write temporary files to /kaggle/temp/, but they won't be saved outside of the current session"
   ]
  },
  {
   "cell_type": "markdown",
   "id": "b15d7fae",
   "metadata": {
    "papermill": {
     "duration": 0.009389,
     "end_time": "2023-12-10T22:25:50.068761",
     "exception": false,
     "start_time": "2023-12-10T22:25:50.059372",
     "status": "completed"
    },
    "tags": []
   },
   "source": [
    "# Load data"
   ]
  },
  {
   "cell_type": "code",
   "execution_count": 2,
   "id": "3eefcf3a",
   "metadata": {
    "execution": {
     "iopub.execute_input": "2023-12-10T22:25:50.090375Z",
     "iopub.status.busy": "2023-12-10T22:25:50.089700Z",
     "iopub.status.idle": "2023-12-10T22:25:50.235846Z",
     "shell.execute_reply": "2023-12-10T22:25:50.234929Z"
    },
    "papermill": {
     "duration": 0.160373,
     "end_time": "2023-12-10T22:25:50.238790",
     "exception": false,
     "start_time": "2023-12-10T22:25:50.078417",
     "status": "completed"
    },
    "tags": []
   },
   "outputs": [],
   "source": [
    "train = pd.read_csv('/kaggle/input/llm-detect-ai-generated-text/train_essays.csv')\n",
    "test = pd.read_csv('/kaggle/input/llm-detect-ai-generated-text/test_essays.csv')\n",
    "prompts = pd.read_csv('/kaggle/input/llm-detect-ai-generated-text/train_prompts.csv')\n",
    "submission = pd.read_csv('/kaggle/input/llm-detect-ai-generated-text/sample_submission.csv')"
   ]
  },
  {
   "cell_type": "markdown",
   "id": "6586abb6",
   "metadata": {
    "papermill": {
     "duration": 0.009859,
     "end_time": "2023-12-10T22:25:50.258982",
     "exception": false,
     "start_time": "2023-12-10T22:25:50.249123",
     "status": "completed"
    },
    "tags": []
   },
   "source": [
    "# Exploratory Data Analysis (EDA)"
   ]
  },
  {
   "cell_type": "code",
   "execution_count": 3,
   "id": "ed65d628",
   "metadata": {
    "execution": {
     "iopub.execute_input": "2023-12-10T22:25:50.281775Z",
     "iopub.status.busy": "2023-12-10T22:25:50.281124Z",
     "iopub.status.idle": "2023-12-10T22:25:50.301482Z",
     "shell.execute_reply": "2023-12-10T22:25:50.300671Z"
    },
    "papermill": {
     "duration": 0.034322,
     "end_time": "2023-12-10T22:25:50.303766",
     "exception": false,
     "start_time": "2023-12-10T22:25:50.269444",
     "status": "completed"
    },
    "tags": []
   },
   "outputs": [
    {
     "data": {
      "text/html": [
       "<div>\n",
       "<style scoped>\n",
       "    .dataframe tbody tr th:only-of-type {\n",
       "        vertical-align: middle;\n",
       "    }\n",
       "\n",
       "    .dataframe tbody tr th {\n",
       "        vertical-align: top;\n",
       "    }\n",
       "\n",
       "    .dataframe thead th {\n",
       "        text-align: right;\n",
       "    }\n",
       "</style>\n",
       "<table border=\"1\" class=\"dataframe\">\n",
       "  <thead>\n",
       "    <tr style=\"text-align: right;\">\n",
       "      <th></th>\n",
       "      <th>id</th>\n",
       "      <th>prompt_id</th>\n",
       "      <th>text</th>\n",
       "      <th>generated</th>\n",
       "    </tr>\n",
       "  </thead>\n",
       "  <tbody>\n",
       "    <tr>\n",
       "      <th>0</th>\n",
       "      <td>0059830c</td>\n",
       "      <td>0</td>\n",
       "      <td>Cars. Cars have been around since they became ...</td>\n",
       "      <td>0</td>\n",
       "    </tr>\n",
       "    <tr>\n",
       "      <th>1</th>\n",
       "      <td>005db917</td>\n",
       "      <td>0</td>\n",
       "      <td>Transportation is a large necessity in most co...</td>\n",
       "      <td>0</td>\n",
       "    </tr>\n",
       "    <tr>\n",
       "      <th>2</th>\n",
       "      <td>008f63e3</td>\n",
       "      <td>0</td>\n",
       "      <td>\"America's love affair with it's vehicles seem...</td>\n",
       "      <td>0</td>\n",
       "    </tr>\n",
       "    <tr>\n",
       "      <th>3</th>\n",
       "      <td>00940276</td>\n",
       "      <td>0</td>\n",
       "      <td>How often do you ride in a car? Do you drive a...</td>\n",
       "      <td>0</td>\n",
       "    </tr>\n",
       "    <tr>\n",
       "      <th>4</th>\n",
       "      <td>00c39458</td>\n",
       "      <td>0</td>\n",
       "      <td>Cars are a wonderful thing. They are perhaps o...</td>\n",
       "      <td>0</td>\n",
       "    </tr>\n",
       "  </tbody>\n",
       "</table>\n",
       "</div>"
      ],
      "text/plain": [
       "         id  prompt_id                                               text  \\\n",
       "0  0059830c          0  Cars. Cars have been around since they became ...   \n",
       "1  005db917          0  Transportation is a large necessity in most co...   \n",
       "2  008f63e3          0  \"America's love affair with it's vehicles seem...   \n",
       "3  00940276          0  How often do you ride in a car? Do you drive a...   \n",
       "4  00c39458          0  Cars are a wonderful thing. They are perhaps o...   \n",
       "\n",
       "   generated  \n",
       "0          0  \n",
       "1          0  \n",
       "2          0  \n",
       "3          0  \n",
       "4          0  "
      ]
     },
     "execution_count": 3,
     "metadata": {},
     "output_type": "execute_result"
    }
   ],
   "source": [
    "train.head()"
   ]
  },
  {
   "cell_type": "code",
   "execution_count": 4,
   "id": "f785b9de",
   "metadata": {
    "execution": {
     "iopub.execute_input": "2023-12-10T22:25:50.326565Z",
     "iopub.status.busy": "2023-12-10T22:25:50.325577Z",
     "iopub.status.idle": "2023-12-10T22:25:50.336375Z",
     "shell.execute_reply": "2023-12-10T22:25:50.335549Z"
    },
    "papermill": {
     "duration": 0.024928,
     "end_time": "2023-12-10T22:25:50.339014",
     "exception": false,
     "start_time": "2023-12-10T22:25:50.314086",
     "status": "completed"
    },
    "tags": []
   },
   "outputs": [
    {
     "data": {
      "text/html": [
       "<div>\n",
       "<style scoped>\n",
       "    .dataframe tbody tr th:only-of-type {\n",
       "        vertical-align: middle;\n",
       "    }\n",
       "\n",
       "    .dataframe tbody tr th {\n",
       "        vertical-align: top;\n",
       "    }\n",
       "\n",
       "    .dataframe thead th {\n",
       "        text-align: right;\n",
       "    }\n",
       "</style>\n",
       "<table border=\"1\" class=\"dataframe\">\n",
       "  <thead>\n",
       "    <tr style=\"text-align: right;\">\n",
       "      <th></th>\n",
       "      <th>prompt_id</th>\n",
       "      <th>prompt_name</th>\n",
       "      <th>instructions</th>\n",
       "      <th>source_text</th>\n",
       "    </tr>\n",
       "  </thead>\n",
       "  <tbody>\n",
       "    <tr>\n",
       "      <th>0</th>\n",
       "      <td>0</td>\n",
       "      <td>Car-free cities</td>\n",
       "      <td>Write an explanatory essay to inform fellow ci...</td>\n",
       "      <td># In German Suburb, Life Goes On Without Cars ...</td>\n",
       "    </tr>\n",
       "    <tr>\n",
       "      <th>1</th>\n",
       "      <td>1</td>\n",
       "      <td>Does the electoral college work?</td>\n",
       "      <td>Write a letter to your state senator in which ...</td>\n",
       "      <td># What Is the Electoral College? by the Office...</td>\n",
       "    </tr>\n",
       "  </tbody>\n",
       "</table>\n",
       "</div>"
      ],
      "text/plain": [
       "   prompt_id                       prompt_name  \\\n",
       "0          0                   Car-free cities   \n",
       "1          1  Does the electoral college work?   \n",
       "\n",
       "                                        instructions  \\\n",
       "0  Write an explanatory essay to inform fellow ci...   \n",
       "1  Write a letter to your state senator in which ...   \n",
       "\n",
       "                                         source_text  \n",
       "0  # In German Suburb, Life Goes On Without Cars ...  \n",
       "1  # What Is the Electoral College? by the Office...  "
      ]
     },
     "execution_count": 4,
     "metadata": {},
     "output_type": "execute_result"
    }
   ],
   "source": [
    "prompts.head()"
   ]
  },
  {
   "cell_type": "code",
   "execution_count": 5,
   "id": "7add60fd",
   "metadata": {
    "execution": {
     "iopub.execute_input": "2023-12-10T22:25:50.362091Z",
     "iopub.status.busy": "2023-12-10T22:25:50.361649Z",
     "iopub.status.idle": "2023-12-10T22:25:50.369549Z",
     "shell.execute_reply": "2023-12-10T22:25:50.368291Z"
    },
    "papermill": {
     "duration": 0.022436,
     "end_time": "2023-12-10T22:25:50.372128",
     "exception": false,
     "start_time": "2023-12-10T22:25:50.349692",
     "status": "completed"
    },
    "tags": []
   },
   "outputs": [
    {
     "data": {
      "text/plain": [
       "6"
      ]
     },
     "execution_count": 5,
     "metadata": {},
     "output_type": "execute_result"
    }
   ],
   "source": [
    "train['text'][0].count('\\n')"
   ]
  },
  {
   "cell_type": "code",
   "execution_count": 6,
   "id": "c3105f6e",
   "metadata": {
    "execution": {
     "iopub.execute_input": "2023-12-10T22:25:50.395332Z",
     "iopub.status.busy": "2023-12-10T22:25:50.394889Z",
     "iopub.status.idle": "2023-12-10T22:25:50.411338Z",
     "shell.execute_reply": "2023-12-10T22:25:50.410105Z"
    },
    "papermill": {
     "duration": 0.031944,
     "end_time": "2023-12-10T22:25:50.414736",
     "exception": false,
     "start_time": "2023-12-10T22:25:50.382792",
     "status": "completed"
    },
    "tags": []
   },
   "outputs": [],
   "source": [
    "train['text'] = train['text'].str.replace('\\n', ' ')\n",
    "test['text'] = test['text'].str.replace('\\n', ' ')"
   ]
  },
  {
   "cell_type": "markdown",
   "id": "be53213c",
   "metadata": {
    "papermill": {
     "duration": 0.010706,
     "end_time": "2023-12-10T22:25:50.436232",
     "exception": false,
     "start_time": "2023-12-10T22:25:50.425526",
     "status": "completed"
    },
    "tags": []
   },
   "source": [
    "# Imports"
   ]
  },
  {
   "cell_type": "code",
   "execution_count": 7,
   "id": "b566097f",
   "metadata": {
    "execution": {
     "iopub.execute_input": "2023-12-10T22:25:50.460513Z",
     "iopub.status.busy": "2023-12-10T22:25:50.459748Z",
     "iopub.status.idle": "2023-12-10T22:26:10.706463Z",
     "shell.execute_reply": "2023-12-10T22:26:10.704928Z"
    },
    "papermill": {
     "duration": 20.262617,
     "end_time": "2023-12-10T22:26:10.709637",
     "exception": false,
     "start_time": "2023-12-10T22:25:50.447020",
     "status": "completed"
    },
    "tags": []
   },
   "outputs": [],
   "source": [
    "\n",
    "from sklearn.feature_extraction.text import TfidfVectorizer\n",
    "from sklearn.metrics import f1_score, accuracy_score, roc_auc_score\n",
    "from sklearn.feature_selection import SelectKBest, chi2, f_classif\n",
    "from sklearn.model_selection import train_test_split\n",
    "\n",
    "\n",
    "from tokenizers import (\n",
    "    models,\n",
    "    normalizers,\n",
    "    pre_tokenizers,\n",
    "    trainers,\n",
    "    Tokenizer,\n",
    ")\n",
    "\n",
    "from transformers import PreTrainedTokenizerFast\n",
    "\n",
    "import gc\n",
    "\n",
    "\n",
    "import tensorflow as tf\n",
    "from tensorflow.keras.layers import Input, Dense, Dropout\n",
    "from tensorflow.keras.models import Model, Sequential\n",
    "from tensorflow.keras.metrics import AUC\n",
    "from keras.callbacks import EarlyStopping\n",
    "from keras.models import load_model\n",
    "\n"
   ]
  },
  {
   "cell_type": "code",
   "execution_count": 8,
   "id": "c78ece40",
   "metadata": {
    "execution": {
     "iopub.execute_input": "2023-12-10T22:26:10.733760Z",
     "iopub.status.busy": "2023-12-10T22:26:10.732782Z",
     "iopub.status.idle": "2023-12-10T22:26:10.741316Z",
     "shell.execute_reply": "2023-12-10T22:26:10.740132Z"
    },
    "papermill": {
     "duration": 0.02339,
     "end_time": "2023-12-10T22:26:10.743807",
     "exception": false,
     "start_time": "2023-12-10T22:26:10.720417",
     "status": "completed"
    },
    "tags": []
   },
   "outputs": [],
   "source": [
    "train = train.reset_index(drop=True)\n",
    "test = test.reset_index(drop=True)"
   ]
  },
  {
   "cell_type": "code",
   "execution_count": 9,
   "id": "3948ae06",
   "metadata": {
    "execution": {
     "iopub.execute_input": "2023-12-10T22:26:10.766598Z",
     "iopub.status.busy": "2023-12-10T22:26:10.766168Z",
     "iopub.status.idle": "2023-12-10T22:26:10.779238Z",
     "shell.execute_reply": "2023-12-10T22:26:10.777960Z"
    },
    "papermill": {
     "duration": 0.027223,
     "end_time": "2023-12-10T22:26:10.781618",
     "exception": false,
     "start_time": "2023-12-10T22:26:10.754395",
     "status": "completed"
    },
    "tags": []
   },
   "outputs": [
    {
     "data": {
      "text/html": [
       "<div>\n",
       "<style scoped>\n",
       "    .dataframe tbody tr th:only-of-type {\n",
       "        vertical-align: middle;\n",
       "    }\n",
       "\n",
       "    .dataframe tbody tr th {\n",
       "        vertical-align: top;\n",
       "    }\n",
       "\n",
       "    .dataframe thead th {\n",
       "        text-align: right;\n",
       "    }\n",
       "</style>\n",
       "<table border=\"1\" class=\"dataframe\">\n",
       "  <thead>\n",
       "    <tr style=\"text-align: right;\">\n",
       "      <th></th>\n",
       "      <th>id</th>\n",
       "      <th>prompt_id</th>\n",
       "      <th>text</th>\n",
       "      <th>generated</th>\n",
       "    </tr>\n",
       "  </thead>\n",
       "  <tbody>\n",
       "    <tr>\n",
       "      <th>0</th>\n",
       "      <td>0059830c</td>\n",
       "      <td>0</td>\n",
       "      <td>Cars. Cars have been around since they became ...</td>\n",
       "      <td>0</td>\n",
       "    </tr>\n",
       "    <tr>\n",
       "      <th>1</th>\n",
       "      <td>005db917</td>\n",
       "      <td>0</td>\n",
       "      <td>Transportation is a large necessity in most co...</td>\n",
       "      <td>0</td>\n",
       "    </tr>\n",
       "    <tr>\n",
       "      <th>2</th>\n",
       "      <td>008f63e3</td>\n",
       "      <td>0</td>\n",
       "      <td>\"America's love affair with it's vehicles seem...</td>\n",
       "      <td>0</td>\n",
       "    </tr>\n",
       "    <tr>\n",
       "      <th>3</th>\n",
       "      <td>00940276</td>\n",
       "      <td>0</td>\n",
       "      <td>How often do you ride in a car? Do you drive a...</td>\n",
       "      <td>0</td>\n",
       "    </tr>\n",
       "    <tr>\n",
       "      <th>4</th>\n",
       "      <td>00c39458</td>\n",
       "      <td>0</td>\n",
       "      <td>Cars are a wonderful thing. They are perhaps o...</td>\n",
       "      <td>0</td>\n",
       "    </tr>\n",
       "  </tbody>\n",
       "</table>\n",
       "</div>"
      ],
      "text/plain": [
       "         id  prompt_id                                               text  \\\n",
       "0  0059830c          0  Cars. Cars have been around since they became ...   \n",
       "1  005db917          0  Transportation is a large necessity in most co...   \n",
       "2  008f63e3          0  \"America's love affair with it's vehicles seem...   \n",
       "3  00940276          0  How often do you ride in a car? Do you drive a...   \n",
       "4  00c39458          0  Cars are a wonderful thing. They are perhaps o...   \n",
       "\n",
       "   generated  \n",
       "0          0  \n",
       "1          0  \n",
       "2          0  \n",
       "3          0  \n",
       "4          0  "
      ]
     },
     "execution_count": 9,
     "metadata": {},
     "output_type": "execute_result"
    }
   ],
   "source": [
    "train.head()"
   ]
  },
  {
   "cell_type": "code",
   "execution_count": 10,
   "id": "79b3a008",
   "metadata": {
    "execution": {
     "iopub.execute_input": "2023-12-10T22:26:10.804958Z",
     "iopub.status.busy": "2023-12-10T22:26:10.804532Z",
     "iopub.status.idle": "2023-12-10T22:26:10.820341Z",
     "shell.execute_reply": "2023-12-10T22:26:10.819324Z"
    },
    "papermill": {
     "duration": 0.030358,
     "end_time": "2023-12-10T22:26:10.822793",
     "exception": false,
     "start_time": "2023-12-10T22:26:10.792435",
     "status": "completed"
    },
    "tags": []
   },
   "outputs": [],
   "source": [
    "train_df, val_df = train_test_split(train, test_size=0.2, random_state=8, stratify=train['generated'])"
   ]
  },
  {
   "cell_type": "markdown",
   "id": "1003284f",
   "metadata": {
    "papermill": {
     "duration": 0.010568,
     "end_time": "2023-12-10T22:26:10.844562",
     "exception": false,
     "start_time": "2023-12-10T22:26:10.833994",
     "status": "completed"
    },
    "tags": []
   },
   "source": [
    "# Preprocessing"
   ]
  },
  {
   "cell_type": "markdown",
   "id": "3569fd97",
   "metadata": {
    "papermill": {
     "duration": 0.010599,
     "end_time": "2023-12-10T22:26:10.866018",
     "exception": false,
     "start_time": "2023-12-10T22:26:10.855419",
     "status": "completed"
    },
    "tags": []
   },
   "source": [
    "## Create Tokenizers\n",
    "In this section, I train tokenizers from scratch by leveraging Hugging Face’s tokenizers package. Here I use the BPE algorithm, Byte Pair Encoding, which uses the frequency of subword patterns in order to create a shorter list for merging. It is able to generate unambiguous tokens."
   ]
  },
  {
   "cell_type": "code",
   "execution_count": 11,
   "id": "f6f5d925",
   "metadata": {
    "execution": {
     "iopub.execute_input": "2023-12-10T22:26:10.890316Z",
     "iopub.status.busy": "2023-12-10T22:26:10.889506Z",
     "iopub.status.idle": "2023-12-10T22:26:16.036715Z",
     "shell.execute_reply": "2023-12-10T22:26:16.035597Z"
    },
    "papermill": {
     "duration": 5.162834,
     "end_time": "2023-12-10T22:26:16.039721",
     "exception": false,
     "start_time": "2023-12-10T22:26:10.876887",
     "status": "completed"
    },
    "tags": []
   },
   "outputs": [
    {
     "name": "stdout",
     "output_type": "stream",
     "text": [
      "\n",
      "\n",
      "\n"
     ]
    }
   ],
   "source": [
    "tk = Tokenizer(models.BPE(unk_token=\"[UNK]\"))\n",
    "tk.pre_tokenizer = pre_tokenizers.ByteLevel()\n",
    "tk.normalizer = normalizers.Sequence([normalizers.NFD(), normalizers.Lowercase(),\n",
    "                                             normalizers.StripAccents()])\n",
    "\n",
    "trainer = trainers.BpeTrainer(vocab_size=30522, special_tokens=\n",
    "                              [\"[UNK]\", \"[CLS]\", \"[SEP]\", \"[PAD]\", \"[MASK]\"])\n",
    "\n",
    "data_for_tokenizer_train = train_df['text'].tolist()\n",
    "tk.train_from_iterator(data_for_tokenizer_train, trainer)\n",
    "\n",
    "tokenizer = PreTrainedTokenizerFast(\n",
    "    tokenizer_object=tk,\n",
    "    sep_token=\"[SEP]\",\n",
    "    pad_token=\"[PAD]\",\n",
    "    mask_token=\"[MASK]\",\n",
    "    unk_token=\"[UNK]\",\n",
    "    cls_token=\"[CLS]\",\n",
    ")\n",
    "\n",
    "train_df['text'] = train_df['text'].apply(\n",
    "    lambda x: tokenizer.tokenize(x, add_special_tokens=True))\n",
    "\n",
    "val_df['text'] = val_df['text'].apply(\n",
    "    lambda x: tokenizer.tokenize(x, add_special_tokens=True))\n",
    "\n",
    "\n",
    "test['text'] = test['text'].apply(\n",
    "    lambda x: tokenizer.tokenize(x, add_special_tokens=True))"
   ]
  },
  {
   "cell_type": "code",
   "execution_count": 12,
   "id": "74de354a",
   "metadata": {
    "execution": {
     "iopub.execute_input": "2023-12-10T22:26:16.064705Z",
     "iopub.status.busy": "2023-12-10T22:26:16.064249Z",
     "iopub.status.idle": "2023-12-10T22:26:16.081109Z",
     "shell.execute_reply": "2023-12-10T22:26:16.079822Z"
    },
    "papermill": {
     "duration": 0.032041,
     "end_time": "2023-12-10T22:26:16.083434",
     "exception": false,
     "start_time": "2023-12-10T22:26:16.051393",
     "status": "completed"
    },
    "tags": []
   },
   "outputs": [
    {
     "data": {
      "text/html": [
       "<div>\n",
       "<style scoped>\n",
       "    .dataframe tbody tr th:only-of-type {\n",
       "        vertical-align: middle;\n",
       "    }\n",
       "\n",
       "    .dataframe tbody tr th {\n",
       "        vertical-align: top;\n",
       "    }\n",
       "\n",
       "    .dataframe thead th {\n",
       "        text-align: right;\n",
       "    }\n",
       "</style>\n",
       "<table border=\"1\" class=\"dataframe\">\n",
       "  <thead>\n",
       "    <tr style=\"text-align: right;\">\n",
       "      <th></th>\n",
       "      <th>id</th>\n",
       "      <th>prompt_id</th>\n",
       "      <th>text</th>\n",
       "      <th>generated</th>\n",
       "    </tr>\n",
       "  </thead>\n",
       "  <tbody>\n",
       "    <tr>\n",
       "      <th>0</th>\n",
       "      <td>0059830c</td>\n",
       "      <td>0</td>\n",
       "      <td>Cars. Cars have been around since they became ...</td>\n",
       "      <td>0</td>\n",
       "    </tr>\n",
       "    <tr>\n",
       "      <th>1</th>\n",
       "      <td>005db917</td>\n",
       "      <td>0</td>\n",
       "      <td>Transportation is a large necessity in most co...</td>\n",
       "      <td>0</td>\n",
       "    </tr>\n",
       "    <tr>\n",
       "      <th>2</th>\n",
       "      <td>008f63e3</td>\n",
       "      <td>0</td>\n",
       "      <td>\"America's love affair with it's vehicles seem...</td>\n",
       "      <td>0</td>\n",
       "    </tr>\n",
       "    <tr>\n",
       "      <th>3</th>\n",
       "      <td>00940276</td>\n",
       "      <td>0</td>\n",
       "      <td>How often do you ride in a car? Do you drive a...</td>\n",
       "      <td>0</td>\n",
       "    </tr>\n",
       "    <tr>\n",
       "      <th>4</th>\n",
       "      <td>00c39458</td>\n",
       "      <td>0</td>\n",
       "      <td>Cars are a wonderful thing. They are perhaps o...</td>\n",
       "      <td>0</td>\n",
       "    </tr>\n",
       "    <tr>\n",
       "      <th>...</th>\n",
       "      <td>...</td>\n",
       "      <td>...</td>\n",
       "      <td>...</td>\n",
       "      <td>...</td>\n",
       "    </tr>\n",
       "    <tr>\n",
       "      <th>1373</th>\n",
       "      <td>fe6ff9a5</td>\n",
       "      <td>1</td>\n",
       "      <td>There has been a fuss about the Elector Colleg...</td>\n",
       "      <td>0</td>\n",
       "    </tr>\n",
       "    <tr>\n",
       "      <th>1374</th>\n",
       "      <td>ff669174</td>\n",
       "      <td>0</td>\n",
       "      <td>Limiting car usage has many advantages. Such a...</td>\n",
       "      <td>0</td>\n",
       "    </tr>\n",
       "    <tr>\n",
       "      <th>1375</th>\n",
       "      <td>ffa247e0</td>\n",
       "      <td>0</td>\n",
       "      <td>There's a new trend that has been developing f...</td>\n",
       "      <td>0</td>\n",
       "    </tr>\n",
       "    <tr>\n",
       "      <th>1376</th>\n",
       "      <td>ffc237e9</td>\n",
       "      <td>0</td>\n",
       "      <td>As we all know cars are a big part of our soci...</td>\n",
       "      <td>0</td>\n",
       "    </tr>\n",
       "    <tr>\n",
       "      <th>1377</th>\n",
       "      <td>ffe1ca0d</td>\n",
       "      <td>0</td>\n",
       "      <td>Cars have been around since the 1800's and hav...</td>\n",
       "      <td>0</td>\n",
       "    </tr>\n",
       "  </tbody>\n",
       "</table>\n",
       "<p>1378 rows × 4 columns</p>\n",
       "</div>"
      ],
      "text/plain": [
       "            id  prompt_id                                               text  \\\n",
       "0     0059830c          0  Cars. Cars have been around since they became ...   \n",
       "1     005db917          0  Transportation is a large necessity in most co...   \n",
       "2     008f63e3          0  \"America's love affair with it's vehicles seem...   \n",
       "3     00940276          0  How often do you ride in a car? Do you drive a...   \n",
       "4     00c39458          0  Cars are a wonderful thing. They are perhaps o...   \n",
       "...        ...        ...                                                ...   \n",
       "1373  fe6ff9a5          1  There has been a fuss about the Elector Colleg...   \n",
       "1374  ff669174          0  Limiting car usage has many advantages. Such a...   \n",
       "1375  ffa247e0          0  There's a new trend that has been developing f...   \n",
       "1376  ffc237e9          0  As we all know cars are a big part of our soci...   \n",
       "1377  ffe1ca0d          0  Cars have been around since the 1800's and hav...   \n",
       "\n",
       "      generated  \n",
       "0             0  \n",
       "1             0  \n",
       "2             0  \n",
       "3             0  \n",
       "4             0  \n",
       "...         ...  \n",
       "1373          0  \n",
       "1374          0  \n",
       "1375          0  \n",
       "1376          0  \n",
       "1377          0  \n",
       "\n",
       "[1378 rows x 4 columns]"
      ]
     },
     "execution_count": 12,
     "metadata": {},
     "output_type": "execute_result"
    }
   ],
   "source": [
    "train"
   ]
  },
  {
   "cell_type": "code",
   "execution_count": 13,
   "id": "54f04804",
   "metadata": {
    "execution": {
     "iopub.execute_input": "2023-12-10T22:26:16.107605Z",
     "iopub.status.busy": "2023-12-10T22:26:16.107122Z",
     "iopub.status.idle": "2023-12-10T22:26:16.120109Z",
     "shell.execute_reply": "2023-12-10T22:26:16.118863Z"
    },
    "papermill": {
     "duration": 0.027945,
     "end_time": "2023-12-10T22:26:16.122425",
     "exception": false,
     "start_time": "2023-12-10T22:26:16.094480",
     "status": "completed"
    },
    "tags": []
   },
   "outputs": [
    {
     "data": {
      "text/html": [
       "<div>\n",
       "<style scoped>\n",
       "    .dataframe tbody tr th:only-of-type {\n",
       "        vertical-align: middle;\n",
       "    }\n",
       "\n",
       "    .dataframe tbody tr th {\n",
       "        vertical-align: top;\n",
       "    }\n",
       "\n",
       "    .dataframe thead th {\n",
       "        text-align: right;\n",
       "    }\n",
       "</style>\n",
       "<table border=\"1\" class=\"dataframe\">\n",
       "  <thead>\n",
       "    <tr style=\"text-align: right;\">\n",
       "      <th></th>\n",
       "      <th>id</th>\n",
       "      <th>prompt_id</th>\n",
       "      <th>text</th>\n",
       "    </tr>\n",
       "  </thead>\n",
       "  <tbody>\n",
       "    <tr>\n",
       "      <th>0</th>\n",
       "      <td>0000aaaa</td>\n",
       "      <td>2</td>\n",
       "      <td>[Ġa, aa, Ġb, b, b, Ġc, cc, .]</td>\n",
       "    </tr>\n",
       "    <tr>\n",
       "      <th>1</th>\n",
       "      <td>1111bbbb</td>\n",
       "      <td>3</td>\n",
       "      <td>[Ġb, b, b, Ġc, cc, Ġd, dd, .]</td>\n",
       "    </tr>\n",
       "    <tr>\n",
       "      <th>2</th>\n",
       "      <td>2222cccc</td>\n",
       "      <td>4</td>\n",
       "      <td>[Ġc, cc, Ġd, dd, Ġe, ee, .]</td>\n",
       "    </tr>\n",
       "  </tbody>\n",
       "</table>\n",
       "</div>"
      ],
      "text/plain": [
       "         id  prompt_id                           text\n",
       "0  0000aaaa          2  [Ġa, aa, Ġb, b, b, Ġc, cc, .]\n",
       "1  1111bbbb          3  [Ġb, b, b, Ġc, cc, Ġd, dd, .]\n",
       "2  2222cccc          4    [Ġc, cc, Ġd, dd, Ġe, ee, .]"
      ]
     },
     "execution_count": 13,
     "metadata": {},
     "output_type": "execute_result"
    }
   ],
   "source": [
    "test"
   ]
  },
  {
   "cell_type": "markdown",
   "id": "fe7da2f8",
   "metadata": {
    "papermill": {
     "duration": 0.011084,
     "end_time": "2023-12-10T22:26:16.145033",
     "exception": false,
     "start_time": "2023-12-10T22:26:16.133949",
     "status": "completed"
    },
    "tags": []
   },
   "source": [
    "# Preprocessing with a TF-IDF Vectorizer"
   ]
  },
  {
   "cell_type": "code",
   "execution_count": 14,
   "id": "e19983f1",
   "metadata": {
    "execution": {
     "iopub.execute_input": "2023-12-10T22:26:16.170436Z",
     "iopub.status.busy": "2023-12-10T22:26:16.169335Z",
     "iopub.status.idle": "2023-12-10T22:26:26.438422Z",
     "shell.execute_reply": "2023-12-10T22:26:26.436983Z"
    },
    "papermill": {
     "duration": 10.284985,
     "end_time": "2023-12-10T22:26:26.441406",
     "exception": false,
     "start_time": "2023-12-10T22:26:16.156421",
     "status": "completed"
    },
    "tags": []
   },
   "outputs": [],
   "source": [
    "def textReturn(text):\n",
    "    return text\n",
    "\n",
    "vect = TfidfVectorizer(ngram_range=(3, 5), tokenizer=textReturn, preprocessor=textReturn,\n",
    "                    sublinear_tf=True, token_pattern=None, lowercase=False,\n",
    "                    min_df=0.001)\n",
    "vect.fit(train_df['text'])\n",
    "vocab = vect.vocabulary_\n",
    "vect = TfidfVectorizer(ngram_range=(3, 5), tokenizer=textReturn, preprocessor=textReturn,\n",
    "                    sublinear_tf=True, token_pattern=None, lowercase=False,\n",
    "                    vocabulary=vocab)\n",
    "X_train = vect.fit_transform(train_df['text']).astype('float32')\n",
    "X_val = vect.fit_transform(val_df['text']).astype('float32')\n",
    "X_test = vect.fit_transform(test['text']).astype('float32')"
   ]
  },
  {
   "cell_type": "markdown",
   "id": "927c468a",
   "metadata": {
    "papermill": {
     "duration": 0.011127,
     "end_time": "2023-12-10T22:26:26.464036",
     "exception": false,
     "start_time": "2023-12-10T22:26:26.452909",
     "status": "completed"
    },
    "tags": []
   },
   "source": [
    "# Model Building"
   ]
  },
  {
   "cell_type": "code",
   "execution_count": 15,
   "id": "73809239",
   "metadata": {
    "execution": {
     "iopub.execute_input": "2023-12-10T22:26:26.489078Z",
     "iopub.status.busy": "2023-12-10T22:26:26.488578Z",
     "iopub.status.idle": "2023-12-10T22:26:26.884993Z",
     "shell.execute_reply": "2023-12-10T22:26:26.883302Z"
    },
    "papermill": {
     "duration": 0.416686,
     "end_time": "2023-12-10T22:26:26.892227",
     "exception": false,
     "start_time": "2023-12-10T22:26:26.475541",
     "status": "completed"
    },
    "tags": []
   },
   "outputs": [
    {
     "name": "stdout",
     "output_type": "stream",
     "text": [
      "Model: \"sequential\"\n",
      "_________________________________________________________________\n",
      " Layer (type)                Output Shape              Param #   \n",
      "=================================================================\n",
      " dense (Dense)               (None, 32)                4417760   \n",
      "                                                                 \n",
      " dropout (Dropout)           (None, 32)                0         \n",
      "                                                                 \n",
      " dense_1 (Dense)             (None, 64)                2112      \n",
      "                                                                 \n",
      " dropout_1 (Dropout)         (None, 64)                0         \n",
      "                                                                 \n",
      " dense_2 (Dense)             (None, 32)                2080      \n",
      "                                                                 \n",
      " dropout_2 (Dropout)         (None, 32)                0         \n",
      "                                                                 \n",
      " dense_3 (Dense)             (None, 1)                 33        \n",
      "                                                                 \n",
      "=================================================================\n",
      "Total params: 4421985 (16.87 MB)\n",
      "Trainable params: 4421985 (16.87 MB)\n",
      "Non-trainable params: 0 (0.00 Byte)\n",
      "_________________________________________________________________\n"
     ]
    }
   ],
   "source": [
    "model = Sequential([\n",
    "    Input(shape=(X_train.shape[1],), sparse=True),\n",
    "    Dense(32, activation='relu', kernel_initializer='he_normal'),\n",
    "    Dropout(0.2),\n",
    "    Dense(64, activation='relu', kernel_initializer='he_normal'),\n",
    "    Dropout(0.3),\n",
    "    Dense(32, activation='relu', kernel_initializer='he_normal'),\n",
    "    Dropout(0.3),\n",
    "    Dense(1, activation='sigmoid')\n",
    "])\n",
    "\n",
    "model.compile(optimizer='adam', loss='binary_crossentropy', metrics=['accuracy', AUC()])\n",
    "\n",
    "model.summary()"
   ]
  },
  {
   "cell_type": "code",
   "execution_count": 16,
   "id": "d98e30d8",
   "metadata": {
    "execution": {
     "iopub.execute_input": "2023-12-10T22:26:26.920995Z",
     "iopub.status.busy": "2023-12-10T22:26:26.920510Z",
     "iopub.status.idle": "2023-12-10T22:26:39.268769Z",
     "shell.execute_reply": "2023-12-10T22:26:39.266776Z"
    },
    "papermill": {
     "duration": 12.36618,
     "end_time": "2023-12-10T22:26:39.271842",
     "exception": false,
     "start_time": "2023-12-10T22:26:26.905662",
     "status": "completed"
    },
    "tags": []
   },
   "outputs": [
    {
     "name": "stdout",
     "output_type": "stream",
     "text": [
      "Epoch 1/10\n",
      "9/9 [==============================] - 2s 87ms/step - loss: 0.6239 - accuracy: 0.9419 - auc: 0.4377\n",
      "Epoch 2/10\n",
      "9/9 [==============================] - 1s 74ms/step - loss: 0.3726 - accuracy: 0.9982 - auc: 0.9195\n",
      "Epoch 3/10\n",
      "9/9 [==============================] - 1s 75ms/step - loss: 0.1635 - accuracy: 0.9982 - auc: 0.8484\n",
      "Epoch 4/10\n",
      "9/9 [==============================] - 1s 81ms/step - loss: 0.0584 - accuracy: 0.9982 - auc: 0.9525\n",
      "Epoch 5/10\n",
      "9/9 [==============================] - 1s 76ms/step - loss: 0.0269 - accuracy: 0.9982 - auc: 0.9327\n",
      "Epoch 6/10\n",
      "9/9 [==============================] - 1s 80ms/step - loss: 0.0141 - accuracy: 0.9982 - auc: 1.0000\n",
      "Epoch 7/10\n",
      "9/9 [==============================] - 1s 75ms/step - loss: 0.0103 - accuracy: 0.9982 - auc: 0.9952\n",
      "Epoch 8/10\n",
      "9/9 [==============================] - 1s 75ms/step - loss: 0.0064 - accuracy: 0.9982 - auc: 1.0000\n",
      "Epoch 9/10\n",
      "9/9 [==============================] - 1s 72ms/step - loss: 0.0062 - accuracy: 0.9982 - auc: 1.0000\n",
      "Epoch 10/10\n",
      "9/9 [==============================] - 1s 70ms/step - loss: 0.0042 - accuracy: 0.9982 - auc: 1.0000\n",
      "9/9 [==============================] - 0s 5ms/step\n",
      "276\n"
     ]
    }
   ],
   "source": [
    "y_train = train_df['generated'].values\n",
    "early_stopping = tf.keras.callbacks.EarlyStopping(monitor='loss', patience=2)\n",
    "\n",
    "model.fit(X_train, y_train, batch_size=128, epochs=10, callbacks=[early_stopping])\n",
    "\n",
    "preds = model.predict(X_val)\n",
    "print(len(preds))"
   ]
  },
  {
   "cell_type": "code",
   "execution_count": 17,
   "id": "4f44f85d",
   "metadata": {
    "execution": {
     "iopub.execute_input": "2023-12-10T22:26:39.325403Z",
     "iopub.status.busy": "2023-12-10T22:26:39.324945Z",
     "iopub.status.idle": "2023-12-10T22:26:39.337535Z",
     "shell.execute_reply": "2023-12-10T22:26:39.336369Z"
    },
    "papermill": {
     "duration": 0.041758,
     "end_time": "2023-12-10T22:26:39.339738",
     "exception": false,
     "start_time": "2023-12-10T22:26:39.297980",
     "status": "completed"
    },
    "tags": []
   },
   "outputs": [
    {
     "name": "stdout",
     "output_type": "stream",
     "text": [
      "0.9963636363636363\n"
     ]
    }
   ],
   "source": [
    "y_val = val_df['generated'].values\n",
    "auc_score = roc_auc_score(y_val, preds)\n",
    "print(auc_score)"
   ]
  },
  {
   "cell_type": "code",
   "execution_count": 18,
   "id": "14d35397",
   "metadata": {
    "execution": {
     "iopub.execute_input": "2023-12-10T22:26:39.489134Z",
     "iopub.status.busy": "2023-12-10T22:26:39.487883Z",
     "iopub.status.idle": "2023-12-10T22:26:39.511351Z",
     "shell.execute_reply": "2023-12-10T22:26:39.510412Z"
    },
    "papermill": {
     "duration": 0.149908,
     "end_time": "2023-12-10T22:26:39.514300",
     "exception": false,
     "start_time": "2023-12-10T22:26:39.364392",
     "status": "completed"
    },
    "tags": []
   },
   "outputs": [
    {
     "name": "stdout",
     "output_type": "stream",
     "text": [
      "1/1 [==============================] - 0s 10ms/step\n",
      "[[0.22608836]\n",
      " [0.22608836]\n",
      " [0.22608836]]\n"
     ]
    }
   ],
   "source": [
    "preds = model.predict(X_test)\n",
    "print(preds)\n",
    "y_pred = [1 if prob > 0.5 else 0 for prob in preds]"
   ]
  },
  {
   "cell_type": "code",
   "execution_count": 19,
   "id": "50201400",
   "metadata": {
    "execution": {
     "iopub.execute_input": "2023-12-10T22:26:39.567222Z",
     "iopub.status.busy": "2023-12-10T22:26:39.566770Z",
     "iopub.status.idle": "2023-12-10T22:26:39.581480Z",
     "shell.execute_reply": "2023-12-10T22:26:39.580112Z"
    },
    "papermill": {
     "duration": 0.044385,
     "end_time": "2023-12-10T22:26:39.584162",
     "exception": false,
     "start_time": "2023-12-10T22:26:39.539777",
     "status": "completed"
    },
    "tags": []
   },
   "outputs": [
    {
     "data": {
      "text/html": [
       "<div>\n",
       "<style scoped>\n",
       "    .dataframe tbody tr th:only-of-type {\n",
       "        vertical-align: middle;\n",
       "    }\n",
       "\n",
       "    .dataframe tbody tr th {\n",
       "        vertical-align: top;\n",
       "    }\n",
       "\n",
       "    .dataframe thead th {\n",
       "        text-align: right;\n",
       "    }\n",
       "</style>\n",
       "<table border=\"1\" class=\"dataframe\">\n",
       "  <thead>\n",
       "    <tr style=\"text-align: right;\">\n",
       "      <th></th>\n",
       "      <th>id</th>\n",
       "      <th>generated</th>\n",
       "    </tr>\n",
       "  </thead>\n",
       "  <tbody>\n",
       "    <tr>\n",
       "      <th>0</th>\n",
       "      <td>0000aaaa</td>\n",
       "      <td>0.1</td>\n",
       "    </tr>\n",
       "    <tr>\n",
       "      <th>1</th>\n",
       "      <td>1111bbbb</td>\n",
       "      <td>0.9</td>\n",
       "    </tr>\n",
       "    <tr>\n",
       "      <th>2</th>\n",
       "      <td>2222cccc</td>\n",
       "      <td>0.4</td>\n",
       "    </tr>\n",
       "  </tbody>\n",
       "</table>\n",
       "</div>"
      ],
      "text/plain": [
       "         id  generated\n",
       "0  0000aaaa        0.1\n",
       "1  1111bbbb        0.9\n",
       "2  2222cccc        0.4"
      ]
     },
     "execution_count": 19,
     "metadata": {},
     "output_type": "execute_result"
    }
   ],
   "source": [
    "submission.head()"
   ]
  },
  {
   "cell_type": "code",
   "execution_count": 20,
   "id": "0bbc65ad",
   "metadata": {
    "execution": {
     "iopub.execute_input": "2023-12-10T22:26:39.638505Z",
     "iopub.status.busy": "2023-12-10T22:26:39.637995Z",
     "iopub.status.idle": "2023-12-10T22:26:39.645149Z",
     "shell.execute_reply": "2023-12-10T22:26:39.643966Z"
    },
    "papermill": {
     "duration": 0.037255,
     "end_time": "2023-12-10T22:26:39.647751",
     "exception": false,
     "start_time": "2023-12-10T22:26:39.610496",
     "status": "completed"
    },
    "tags": []
   },
   "outputs": [
    {
     "data": {
      "text/plain": [
       "[0, 0, 0]"
      ]
     },
     "execution_count": 20,
     "metadata": {},
     "output_type": "execute_result"
    }
   ],
   "source": [
    "y_pred"
   ]
  },
  {
   "cell_type": "code",
   "execution_count": 21,
   "id": "cdccc0f0",
   "metadata": {
    "execution": {
     "iopub.execute_input": "2023-12-10T22:26:39.702211Z",
     "iopub.status.busy": "2023-12-10T22:26:39.701755Z",
     "iopub.status.idle": "2023-12-10T22:26:39.707384Z",
     "shell.execute_reply": "2023-12-10T22:26:39.706184Z"
    },
    "papermill": {
     "duration": 0.035796,
     "end_time": "2023-12-10T22:26:39.709825",
     "exception": false,
     "start_time": "2023-12-10T22:26:39.674029",
     "status": "completed"
    },
    "tags": []
   },
   "outputs": [],
   "source": [
    "submission['generated'] = y_pred"
   ]
  },
  {
   "cell_type": "code",
   "execution_count": 22,
   "id": "5507321d",
   "metadata": {
    "execution": {
     "iopub.execute_input": "2023-12-10T22:26:39.763929Z",
     "iopub.status.busy": "2023-12-10T22:26:39.763433Z",
     "iopub.status.idle": "2023-12-10T22:26:39.775348Z",
     "shell.execute_reply": "2023-12-10T22:26:39.773759Z"
    },
    "papermill": {
     "duration": 0.043043,
     "end_time": "2023-12-10T22:26:39.778782",
     "exception": false,
     "start_time": "2023-12-10T22:26:39.735739",
     "status": "completed"
    },
    "tags": []
   },
   "outputs": [
    {
     "data": {
      "text/html": [
       "<div>\n",
       "<style scoped>\n",
       "    .dataframe tbody tr th:only-of-type {\n",
       "        vertical-align: middle;\n",
       "    }\n",
       "\n",
       "    .dataframe tbody tr th {\n",
       "        vertical-align: top;\n",
       "    }\n",
       "\n",
       "    .dataframe thead th {\n",
       "        text-align: right;\n",
       "    }\n",
       "</style>\n",
       "<table border=\"1\" class=\"dataframe\">\n",
       "  <thead>\n",
       "    <tr style=\"text-align: right;\">\n",
       "      <th></th>\n",
       "      <th>id</th>\n",
       "      <th>generated</th>\n",
       "    </tr>\n",
       "  </thead>\n",
       "  <tbody>\n",
       "    <tr>\n",
       "      <th>0</th>\n",
       "      <td>0000aaaa</td>\n",
       "      <td>0</td>\n",
       "    </tr>\n",
       "    <tr>\n",
       "      <th>1</th>\n",
       "      <td>1111bbbb</td>\n",
       "      <td>0</td>\n",
       "    </tr>\n",
       "    <tr>\n",
       "      <th>2</th>\n",
       "      <td>2222cccc</td>\n",
       "      <td>0</td>\n",
       "    </tr>\n",
       "  </tbody>\n",
       "</table>\n",
       "</div>"
      ],
      "text/plain": [
       "         id  generated\n",
       "0  0000aaaa          0\n",
       "1  1111bbbb          0\n",
       "2  2222cccc          0"
      ]
     },
     "execution_count": 22,
     "metadata": {},
     "output_type": "execute_result"
    }
   ],
   "source": [
    "submission"
   ]
  },
  {
   "cell_type": "code",
   "execution_count": 23,
   "id": "48ef67a1",
   "metadata": {
    "execution": {
     "iopub.execute_input": "2023-12-10T22:26:39.832820Z",
     "iopub.status.busy": "2023-12-10T22:26:39.832299Z",
     "iopub.status.idle": "2023-12-10T22:26:39.841380Z",
     "shell.execute_reply": "2023-12-10T22:26:39.840502Z"
    },
    "papermill": {
     "duration": 0.039106,
     "end_time": "2023-12-10T22:26:39.843849",
     "exception": false,
     "start_time": "2023-12-10T22:26:39.804743",
     "status": "completed"
    },
    "tags": []
   },
   "outputs": [],
   "source": [
    "submission.to_csv('submission.csv', index=False)"
   ]
  },
  {
   "cell_type": "code",
   "execution_count": null,
   "id": "a5897c08",
   "metadata": {
    "papermill": {
     "duration": 0.025577,
     "end_time": "2023-12-10T22:26:39.895545",
     "exception": false,
     "start_time": "2023-12-10T22:26:39.869968",
     "status": "completed"
    },
    "tags": []
   },
   "outputs": [],
   "source": []
  }
 ],
 "metadata": {
  "kaggle": {
   "accelerator": "none",
   "dataSources": [
    {
     "databundleVersionId": 6888007,
     "sourceId": 61542,
     "sourceType": "competition"
    }
   ],
   "dockerImageVersionId": 30615,
   "isGpuEnabled": false,
   "isInternetEnabled": true,
   "language": "python",
   "sourceType": "notebook"
  },
  "kernelspec": {
   "display_name": "Python 3",
   "language": "python",
   "name": "python3"
  },
  "language_info": {
   "codemirror_mode": {
    "name": "ipython",
    "version": 3
   },
   "file_extension": ".py",
   "mimetype": "text/x-python",
   "name": "python",
   "nbconvert_exporter": "python",
   "pygments_lexer": "ipython3",
   "version": "3.10.12"
  },
  "papermill": {
   "default_parameters": {},
   "duration": 57.513132,
   "end_time": "2023-12-10T22:26:43.517530",
   "environment_variables": {},
   "exception": null,
   "input_path": "__notebook__.ipynb",
   "output_path": "__notebook__.ipynb",
   "parameters": {},
   "start_time": "2023-12-10T22:25:46.004398",
   "version": "2.4.0"
  }
 },
 "nbformat": 4,
 "nbformat_minor": 5
}
