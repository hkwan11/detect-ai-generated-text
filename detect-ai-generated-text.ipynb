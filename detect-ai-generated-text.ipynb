{
 "cells": [
  {
   "cell_type": "code",
   "execution_count": 1,
   "id": "1afb40ce",
   "metadata": {
    "_cell_guid": "b1076dfc-b9ad-4769-8c92-a6c4dae69d19",
    "_uuid": "8f2839f25d086af736a60e9eeb907d3b93b6e0e5",
    "execution": {
     "iopub.execute_input": "2023-12-10T22:13:16.199948Z",
     "iopub.status.busy": "2023-12-10T22:13:16.199505Z",
     "iopub.status.idle": "2023-12-10T22:13:16.701873Z",
     "shell.execute_reply": "2023-12-10T22:13:16.700305Z"
    },
    "papermill": {
     "duration": 0.517512,
     "end_time": "2023-12-10T22:13:16.704977",
     "exception": false,
     "start_time": "2023-12-10T22:13:16.187465",
     "status": "completed"
    },
    "tags": []
   },
   "outputs": [
    {
     "name": "stdout",
     "output_type": "stream",
     "text": [
      "/kaggle/input/llm-detect-ai-generated-text/sample_submission.csv\n",
      "/kaggle/input/llm-detect-ai-generated-text/train_prompts.csv\n",
      "/kaggle/input/llm-detect-ai-generated-text/test_essays.csv\n",
      "/kaggle/input/llm-detect-ai-generated-text/train_essays.csv\n"
     ]
    }
   ],
   "source": [
    "# This Python 3 environment comes with many helpful analytics libraries installed\n",
    "# It is defined by the kaggle/python Docker image: https://github.com/kaggle/docker-python\n",
    "# For example, here's several helpful packages to load\n",
    "\n",
    "import numpy as np # linear algebra\n",
    "import pandas as pd # data processing, CSV file I/O (e.g. pd.read_csv)\n",
    "\n",
    "# Input data files are available in the read-only \"../input/\" directory\n",
    "# For example, running this (by clicking run or pressing Shift+Enter) will list all files under the input directory\n",
    "\n",
    "import os\n",
    "for dirname, _, filenames in os.walk('/kaggle/input'):\n",
    "    for filename in filenames:\n",
    "        print(os.path.join(dirname, filename))\n",
    "\n",
    "# You can write up to 20GB to the current directory (/kaggle/working/) that gets preserved as output when you create a version using \"Save & Run All\" \n",
    "# You can also write temporary files to /kaggle/temp/, but they won't be saved outside of the current session"
   ]
  },
  {
   "cell_type": "markdown",
   "id": "707807f4",
   "metadata": {
    "papermill": {
     "duration": 0.009037,
     "end_time": "2023-12-10T22:13:16.723585",
     "exception": false,
     "start_time": "2023-12-10T22:13:16.714548",
     "status": "completed"
    },
    "tags": []
   },
   "source": [
    "# Load data"
   ]
  },
  {
   "cell_type": "code",
   "execution_count": 2,
   "id": "8e752bb3",
   "metadata": {
    "execution": {
     "iopub.execute_input": "2023-12-10T22:13:16.744749Z",
     "iopub.status.busy": "2023-12-10T22:13:16.744131Z",
     "iopub.status.idle": "2023-12-10T22:13:16.897731Z",
     "shell.execute_reply": "2023-12-10T22:13:16.896533Z"
    },
    "papermill": {
     "duration": 0.167745,
     "end_time": "2023-12-10T22:13:16.900534",
     "exception": false,
     "start_time": "2023-12-10T22:13:16.732789",
     "status": "completed"
    },
    "tags": []
   },
   "outputs": [],
   "source": [
    "train = pd.read_csv('/kaggle/input/llm-detect-ai-generated-text/train_essays.csv')\n",
    "test = pd.read_csv('/kaggle/input/llm-detect-ai-generated-text/test_essays.csv')\n",
    "prompts = pd.read_csv('/kaggle/input/llm-detect-ai-generated-text/train_prompts.csv')\n",
    "submission = pd.read_csv('/kaggle/input/llm-detect-ai-generated-text/sample_submission.csv')"
   ]
  },
  {
   "cell_type": "markdown",
   "id": "addf9024",
   "metadata": {
    "papermill": {
     "duration": 0.008852,
     "end_time": "2023-12-10T22:13:16.918606",
     "exception": false,
     "start_time": "2023-12-10T22:13:16.909754",
     "status": "completed"
    },
    "tags": []
   },
   "source": [
    "# Exploratory Data Analysis (EDA)"
   ]
  },
  {
   "cell_type": "code",
   "execution_count": 3,
   "id": "c1040101",
   "metadata": {
    "execution": {
     "iopub.execute_input": "2023-12-10T22:13:16.940172Z",
     "iopub.status.busy": "2023-12-10T22:13:16.939272Z",
     "iopub.status.idle": "2023-12-10T22:13:16.963295Z",
     "shell.execute_reply": "2023-12-10T22:13:16.962324Z"
    },
    "papermill": {
     "duration": 0.038064,
     "end_time": "2023-12-10T22:13:16.965821",
     "exception": false,
     "start_time": "2023-12-10T22:13:16.927757",
     "status": "completed"
    },
    "tags": []
   },
   "outputs": [
    {
     "data": {
      "text/html": [
       "<div>\n",
       "<style scoped>\n",
       "    .dataframe tbody tr th:only-of-type {\n",
       "        vertical-align: middle;\n",
       "    }\n",
       "\n",
       "    .dataframe tbody tr th {\n",
       "        vertical-align: top;\n",
       "    }\n",
       "\n",
       "    .dataframe thead th {\n",
       "        text-align: right;\n",
       "    }\n",
       "</style>\n",
       "<table border=\"1\" class=\"dataframe\">\n",
       "  <thead>\n",
       "    <tr style=\"text-align: right;\">\n",
       "      <th></th>\n",
       "      <th>id</th>\n",
       "      <th>prompt_id</th>\n",
       "      <th>text</th>\n",
       "      <th>generated</th>\n",
       "    </tr>\n",
       "  </thead>\n",
       "  <tbody>\n",
       "    <tr>\n",
       "      <th>0</th>\n",
       "      <td>0059830c</td>\n",
       "      <td>0</td>\n",
       "      <td>Cars. Cars have been around since they became ...</td>\n",
       "      <td>0</td>\n",
       "    </tr>\n",
       "    <tr>\n",
       "      <th>1</th>\n",
       "      <td>005db917</td>\n",
       "      <td>0</td>\n",
       "      <td>Transportation is a large necessity in most co...</td>\n",
       "      <td>0</td>\n",
       "    </tr>\n",
       "    <tr>\n",
       "      <th>2</th>\n",
       "      <td>008f63e3</td>\n",
       "      <td>0</td>\n",
       "      <td>\"America's love affair with it's vehicles seem...</td>\n",
       "      <td>0</td>\n",
       "    </tr>\n",
       "    <tr>\n",
       "      <th>3</th>\n",
       "      <td>00940276</td>\n",
       "      <td>0</td>\n",
       "      <td>How often do you ride in a car? Do you drive a...</td>\n",
       "      <td>0</td>\n",
       "    </tr>\n",
       "    <tr>\n",
       "      <th>4</th>\n",
       "      <td>00c39458</td>\n",
       "      <td>0</td>\n",
       "      <td>Cars are a wonderful thing. They are perhaps o...</td>\n",
       "      <td>0</td>\n",
       "    </tr>\n",
       "  </tbody>\n",
       "</table>\n",
       "</div>"
      ],
      "text/plain": [
       "         id  prompt_id                                               text  \\\n",
       "0  0059830c          0  Cars. Cars have been around since they became ...   \n",
       "1  005db917          0  Transportation is a large necessity in most co...   \n",
       "2  008f63e3          0  \"America's love affair with it's vehicles seem...   \n",
       "3  00940276          0  How often do you ride in a car? Do you drive a...   \n",
       "4  00c39458          0  Cars are a wonderful thing. They are perhaps o...   \n",
       "\n",
       "   generated  \n",
       "0          0  \n",
       "1          0  \n",
       "2          0  \n",
       "3          0  \n",
       "4          0  "
      ]
     },
     "execution_count": 3,
     "metadata": {},
     "output_type": "execute_result"
    }
   ],
   "source": [
    "train.head()"
   ]
  },
  {
   "cell_type": "code",
   "execution_count": 4,
   "id": "644431bc",
   "metadata": {
    "execution": {
     "iopub.execute_input": "2023-12-10T22:13:16.987482Z",
     "iopub.status.busy": "2023-12-10T22:13:16.986691Z",
     "iopub.status.idle": "2023-12-10T22:13:16.998538Z",
     "shell.execute_reply": "2023-12-10T22:13:16.997462Z"
    },
    "papermill": {
     "duration": 0.025428,
     "end_time": "2023-12-10T22:13:17.000848",
     "exception": false,
     "start_time": "2023-12-10T22:13:16.975420",
     "status": "completed"
    },
    "tags": []
   },
   "outputs": [
    {
     "data": {
      "text/html": [
       "<div>\n",
       "<style scoped>\n",
       "    .dataframe tbody tr th:only-of-type {\n",
       "        vertical-align: middle;\n",
       "    }\n",
       "\n",
       "    .dataframe tbody tr th {\n",
       "        vertical-align: top;\n",
       "    }\n",
       "\n",
       "    .dataframe thead th {\n",
       "        text-align: right;\n",
       "    }\n",
       "</style>\n",
       "<table border=\"1\" class=\"dataframe\">\n",
       "  <thead>\n",
       "    <tr style=\"text-align: right;\">\n",
       "      <th></th>\n",
       "      <th>prompt_id</th>\n",
       "      <th>prompt_name</th>\n",
       "      <th>instructions</th>\n",
       "      <th>source_text</th>\n",
       "    </tr>\n",
       "  </thead>\n",
       "  <tbody>\n",
       "    <tr>\n",
       "      <th>0</th>\n",
       "      <td>0</td>\n",
       "      <td>Car-free cities</td>\n",
       "      <td>Write an explanatory essay to inform fellow ci...</td>\n",
       "      <td># In German Suburb, Life Goes On Without Cars ...</td>\n",
       "    </tr>\n",
       "    <tr>\n",
       "      <th>1</th>\n",
       "      <td>1</td>\n",
       "      <td>Does the electoral college work?</td>\n",
       "      <td>Write a letter to your state senator in which ...</td>\n",
       "      <td># What Is the Electoral College? by the Office...</td>\n",
       "    </tr>\n",
       "  </tbody>\n",
       "</table>\n",
       "</div>"
      ],
      "text/plain": [
       "   prompt_id                       prompt_name  \\\n",
       "0          0                   Car-free cities   \n",
       "1          1  Does the electoral college work?   \n",
       "\n",
       "                                        instructions  \\\n",
       "0  Write an explanatory essay to inform fellow ci...   \n",
       "1  Write a letter to your state senator in which ...   \n",
       "\n",
       "                                         source_text  \n",
       "0  # In German Suburb, Life Goes On Without Cars ...  \n",
       "1  # What Is the Electoral College? by the Office...  "
      ]
     },
     "execution_count": 4,
     "metadata": {},
     "output_type": "execute_result"
    }
   ],
   "source": [
    "prompts.head()"
   ]
  },
  {
   "cell_type": "code",
   "execution_count": 5,
   "id": "a3d6001a",
   "metadata": {
    "execution": {
     "iopub.execute_input": "2023-12-10T22:13:17.023305Z",
     "iopub.status.busy": "2023-12-10T22:13:17.022818Z",
     "iopub.status.idle": "2023-12-10T22:13:17.030441Z",
     "shell.execute_reply": "2023-12-10T22:13:17.029312Z"
    },
    "papermill": {
     "duration": 0.021603,
     "end_time": "2023-12-10T22:13:17.032768",
     "exception": false,
     "start_time": "2023-12-10T22:13:17.011165",
     "status": "completed"
    },
    "tags": []
   },
   "outputs": [
    {
     "data": {
      "text/plain": [
       "6"
      ]
     },
     "execution_count": 5,
     "metadata": {},
     "output_type": "execute_result"
    }
   ],
   "source": [
    "train['text'][0].count('\\n')"
   ]
  },
  {
   "cell_type": "code",
   "execution_count": 6,
   "id": "683f8509",
   "metadata": {
    "execution": {
     "iopub.execute_input": "2023-12-10T22:13:17.054622Z",
     "iopub.status.busy": "2023-12-10T22:13:17.054158Z",
     "iopub.status.idle": "2023-12-10T22:13:17.070226Z",
     "shell.execute_reply": "2023-12-10T22:13:17.069021Z"
    },
    "papermill": {
     "duration": 0.030033,
     "end_time": "2023-12-10T22:13:17.072529",
     "exception": false,
     "start_time": "2023-12-10T22:13:17.042496",
     "status": "completed"
    },
    "tags": []
   },
   "outputs": [],
   "source": [
    "train['text'] = train['text'].str.replace('\\n', ' ')\n",
    "test['text'] = test['text'].str.replace('\\n', ' ')"
   ]
  },
  {
   "cell_type": "markdown",
   "id": "8d913b8e",
   "metadata": {
    "papermill": {
     "duration": 0.009761,
     "end_time": "2023-12-10T22:13:17.092165",
     "exception": false,
     "start_time": "2023-12-10T22:13:17.082404",
     "status": "completed"
    },
    "tags": []
   },
   "source": [
    "# Imports"
   ]
  },
  {
   "cell_type": "code",
   "execution_count": 7,
   "id": "2597d23d",
   "metadata": {
    "execution": {
     "iopub.execute_input": "2023-12-10T22:13:17.113852Z",
     "iopub.status.busy": "2023-12-10T22:13:17.113419Z",
     "iopub.status.idle": "2023-12-10T22:13:38.493151Z",
     "shell.execute_reply": "2023-12-10T22:13:38.491761Z"
    },
    "papermill": {
     "duration": 21.394267,
     "end_time": "2023-12-10T22:13:38.496317",
     "exception": false,
     "start_time": "2023-12-10T22:13:17.102050",
     "status": "completed"
    },
    "tags": []
   },
   "outputs": [],
   "source": [
    "\n",
    "from sklearn.feature_extraction.text import TfidfVectorizer\n",
    "from sklearn.metrics import f1_score, accuracy_score, roc_auc_score\n",
    "from sklearn.feature_selection import SelectKBest, chi2, f_classif\n",
    "from sklearn.model_selection import train_test_split\n",
    "\n",
    "\n",
    "from tokenizers import (\n",
    "    models,\n",
    "    normalizers,\n",
    "    pre_tokenizers,\n",
    "    trainers,\n",
    "    Tokenizer,\n",
    ")\n",
    "\n",
    "from transformers import PreTrainedTokenizerFast\n",
    "\n",
    "import gc\n",
    "\n",
    "\n",
    "import tensorflow as tf\n",
    "from tensorflow.keras.layers import Input, Dense, Dropout\n",
    "from tensorflow.keras.models import Model, Sequential\n",
    "from tensorflow.keras.metrics import AUC\n",
    "from keras.callbacks import EarlyStopping\n",
    "from keras.models import load_model\n",
    "\n"
   ]
  },
  {
   "cell_type": "code",
   "execution_count": 8,
   "id": "fb078be3",
   "metadata": {
    "execution": {
     "iopub.execute_input": "2023-12-10T22:13:38.519770Z",
     "iopub.status.busy": "2023-12-10T22:13:38.518841Z",
     "iopub.status.idle": "2023-12-10T22:13:38.527486Z",
     "shell.execute_reply": "2023-12-10T22:13:38.526217Z"
    },
    "papermill": {
     "duration": 0.022538,
     "end_time": "2023-12-10T22:13:38.529773",
     "exception": false,
     "start_time": "2023-12-10T22:13:38.507235",
     "status": "completed"
    },
    "tags": []
   },
   "outputs": [],
   "source": [
    "train = train.reset_index(drop=True)\n",
    "test = test.reset_index(drop=True)"
   ]
  },
  {
   "cell_type": "code",
   "execution_count": 9,
   "id": "e73a0531",
   "metadata": {
    "execution": {
     "iopub.execute_input": "2023-12-10T22:13:38.551972Z",
     "iopub.status.busy": "2023-12-10T22:13:38.551490Z",
     "iopub.status.idle": "2023-12-10T22:13:38.564061Z",
     "shell.execute_reply": "2023-12-10T22:13:38.563082Z"
    },
    "papermill": {
     "duration": 0.027146,
     "end_time": "2023-12-10T22:13:38.566781",
     "exception": false,
     "start_time": "2023-12-10T22:13:38.539635",
     "status": "completed"
    },
    "tags": []
   },
   "outputs": [
    {
     "data": {
      "text/html": [
       "<div>\n",
       "<style scoped>\n",
       "    .dataframe tbody tr th:only-of-type {\n",
       "        vertical-align: middle;\n",
       "    }\n",
       "\n",
       "    .dataframe tbody tr th {\n",
       "        vertical-align: top;\n",
       "    }\n",
       "\n",
       "    .dataframe thead th {\n",
       "        text-align: right;\n",
       "    }\n",
       "</style>\n",
       "<table border=\"1\" class=\"dataframe\">\n",
       "  <thead>\n",
       "    <tr style=\"text-align: right;\">\n",
       "      <th></th>\n",
       "      <th>id</th>\n",
       "      <th>prompt_id</th>\n",
       "      <th>text</th>\n",
       "      <th>generated</th>\n",
       "    </tr>\n",
       "  </thead>\n",
       "  <tbody>\n",
       "    <tr>\n",
       "      <th>0</th>\n",
       "      <td>0059830c</td>\n",
       "      <td>0</td>\n",
       "      <td>Cars. Cars have been around since they became ...</td>\n",
       "      <td>0</td>\n",
       "    </tr>\n",
       "    <tr>\n",
       "      <th>1</th>\n",
       "      <td>005db917</td>\n",
       "      <td>0</td>\n",
       "      <td>Transportation is a large necessity in most co...</td>\n",
       "      <td>0</td>\n",
       "    </tr>\n",
       "    <tr>\n",
       "      <th>2</th>\n",
       "      <td>008f63e3</td>\n",
       "      <td>0</td>\n",
       "      <td>\"America's love affair with it's vehicles seem...</td>\n",
       "      <td>0</td>\n",
       "    </tr>\n",
       "    <tr>\n",
       "      <th>3</th>\n",
       "      <td>00940276</td>\n",
       "      <td>0</td>\n",
       "      <td>How often do you ride in a car? Do you drive a...</td>\n",
       "      <td>0</td>\n",
       "    </tr>\n",
       "    <tr>\n",
       "      <th>4</th>\n",
       "      <td>00c39458</td>\n",
       "      <td>0</td>\n",
       "      <td>Cars are a wonderful thing. They are perhaps o...</td>\n",
       "      <td>0</td>\n",
       "    </tr>\n",
       "  </tbody>\n",
       "</table>\n",
       "</div>"
      ],
      "text/plain": [
       "         id  prompt_id                                               text  \\\n",
       "0  0059830c          0  Cars. Cars have been around since they became ...   \n",
       "1  005db917          0  Transportation is a large necessity in most co...   \n",
       "2  008f63e3          0  \"America's love affair with it's vehicles seem...   \n",
       "3  00940276          0  How often do you ride in a car? Do you drive a...   \n",
       "4  00c39458          0  Cars are a wonderful thing. They are perhaps o...   \n",
       "\n",
       "   generated  \n",
       "0          0  \n",
       "1          0  \n",
       "2          0  \n",
       "3          0  \n",
       "4          0  "
      ]
     },
     "execution_count": 9,
     "metadata": {},
     "output_type": "execute_result"
    }
   ],
   "source": [
    "train.head()"
   ]
  },
  {
   "cell_type": "code",
   "execution_count": 10,
   "id": "566eaaac",
   "metadata": {
    "execution": {
     "iopub.execute_input": "2023-12-10T22:13:38.590744Z",
     "iopub.status.busy": "2023-12-10T22:13:38.590013Z",
     "iopub.status.idle": "2023-12-10T22:13:38.605683Z",
     "shell.execute_reply": "2023-12-10T22:13:38.604373Z"
    },
    "papermill": {
     "duration": 0.031394,
     "end_time": "2023-12-10T22:13:38.608974",
     "exception": false,
     "start_time": "2023-12-10T22:13:38.577580",
     "status": "completed"
    },
    "tags": []
   },
   "outputs": [],
   "source": [
    "train_df, val_df = train_test_split(train, test_size=0.2, random_state=8, stratify=train['generated'])"
   ]
  },
  {
   "cell_type": "markdown",
   "id": "64b00f07",
   "metadata": {
    "papermill": {
     "duration": 0.010394,
     "end_time": "2023-12-10T22:13:38.630680",
     "exception": false,
     "start_time": "2023-12-10T22:13:38.620286",
     "status": "completed"
    },
    "tags": []
   },
   "source": [
    "# Create Tokenizers\n",
    "In this section, I train tokenizers from scratch by leveraging Hugging Face’s tokenizers package. Here I use the BPE algorithm, Byte Pair Encoding, which uses the frequency of subword patterns in order to create a shorter list for merging. It is able to generate unambiguous tokens."
   ]
  },
  {
   "cell_type": "code",
   "execution_count": 11,
   "id": "05a7048c",
   "metadata": {
    "execution": {
     "iopub.execute_input": "2023-12-10T22:13:38.654725Z",
     "iopub.status.busy": "2023-12-10T22:13:38.654288Z",
     "iopub.status.idle": "2023-12-10T22:13:43.908530Z",
     "shell.execute_reply": "2023-12-10T22:13:43.907150Z"
    },
    "papermill": {
     "duration": 5.269918,
     "end_time": "2023-12-10T22:13:43.911383",
     "exception": false,
     "start_time": "2023-12-10T22:13:38.641465",
     "status": "completed"
    },
    "tags": []
   },
   "outputs": [
    {
     "name": "stdout",
     "output_type": "stream",
     "text": [
      "\n",
      "\n",
      "\n"
     ]
    }
   ],
   "source": [
    "tk = Tokenizer(models.BPE(unk_token=\"[UNK]\"))\n",
    "tk.pre_tokenizer = pre_tokenizers.ByteLevel()\n",
    "tk.normalizer = normalizers.Sequence([normalizers.NFD(), normalizers.Lowercase(),\n",
    "                                             normalizers.StripAccents()])\n",
    "\n",
    "trainer = trainers.BpeTrainer(vocab_size=30522, special_tokens=\n",
    "                              [\"[UNK]\", \"[CLS]\", \"[SEP]\", \"[PAD]\", \"[MASK]\"])\n",
    "\n",
    "data_for_tokenizer_train = train_df['text'].tolist()\n",
    "tk.train_from_iterator(data_for_tokenizer_train, trainer)\n",
    "\n",
    "tokenizer = PreTrainedTokenizerFast(\n",
    "    tokenizer_object=tk,\n",
    "    unk_token=\"[UNK]\",\n",
    "    cls_token=\"[CLS]\",\n",
    "    sep_token=\"[SEP]\",\n",
    "    pad_token=\"[PAD]\",\n",
    "    mask_token=\"[MASK]\",\n",
    ")\n",
    "\n",
    "train_df['text'] = train_df['text'].apply(\n",
    "    lambda x: tokenizer.tokenize(x, add_special_tokens=True))\n",
    "\n",
    "val_df['text'] = val_df['text'].apply(\n",
    "    lambda x: tokenizer.tokenize(x, add_special_tokens=True))\n",
    "\n",
    "\n",
    "test['text'] = test['text'].apply(\n",
    "    lambda x: tokenizer.tokenize(x, add_special_tokens=True))"
   ]
  },
  {
   "cell_type": "code",
   "execution_count": 12,
   "id": "5b96ac83",
   "metadata": {
    "execution": {
     "iopub.execute_input": "2023-12-10T22:13:43.935795Z",
     "iopub.status.busy": "2023-12-10T22:13:43.935336Z",
     "iopub.status.idle": "2023-12-10T22:13:43.954401Z",
     "shell.execute_reply": "2023-12-10T22:13:43.952900Z"
    },
    "papermill": {
     "duration": 0.035007,
     "end_time": "2023-12-10T22:13:43.957204",
     "exception": false,
     "start_time": "2023-12-10T22:13:43.922197",
     "status": "completed"
    },
    "tags": []
   },
   "outputs": [
    {
     "data": {
      "text/html": [
       "<div>\n",
       "<style scoped>\n",
       "    .dataframe tbody tr th:only-of-type {\n",
       "        vertical-align: middle;\n",
       "    }\n",
       "\n",
       "    .dataframe tbody tr th {\n",
       "        vertical-align: top;\n",
       "    }\n",
       "\n",
       "    .dataframe thead th {\n",
       "        text-align: right;\n",
       "    }\n",
       "</style>\n",
       "<table border=\"1\" class=\"dataframe\">\n",
       "  <thead>\n",
       "    <tr style=\"text-align: right;\">\n",
       "      <th></th>\n",
       "      <th>id</th>\n",
       "      <th>prompt_id</th>\n",
       "      <th>text</th>\n",
       "      <th>generated</th>\n",
       "    </tr>\n",
       "  </thead>\n",
       "  <tbody>\n",
       "    <tr>\n",
       "      <th>0</th>\n",
       "      <td>0059830c</td>\n",
       "      <td>0</td>\n",
       "      <td>Cars. Cars have been around since they became ...</td>\n",
       "      <td>0</td>\n",
       "    </tr>\n",
       "    <tr>\n",
       "      <th>1</th>\n",
       "      <td>005db917</td>\n",
       "      <td>0</td>\n",
       "      <td>Transportation is a large necessity in most co...</td>\n",
       "      <td>0</td>\n",
       "    </tr>\n",
       "    <tr>\n",
       "      <th>2</th>\n",
       "      <td>008f63e3</td>\n",
       "      <td>0</td>\n",
       "      <td>\"America's love affair with it's vehicles seem...</td>\n",
       "      <td>0</td>\n",
       "    </tr>\n",
       "    <tr>\n",
       "      <th>3</th>\n",
       "      <td>00940276</td>\n",
       "      <td>0</td>\n",
       "      <td>How often do you ride in a car? Do you drive a...</td>\n",
       "      <td>0</td>\n",
       "    </tr>\n",
       "    <tr>\n",
       "      <th>4</th>\n",
       "      <td>00c39458</td>\n",
       "      <td>0</td>\n",
       "      <td>Cars are a wonderful thing. They are perhaps o...</td>\n",
       "      <td>0</td>\n",
       "    </tr>\n",
       "    <tr>\n",
       "      <th>...</th>\n",
       "      <td>...</td>\n",
       "      <td>...</td>\n",
       "      <td>...</td>\n",
       "      <td>...</td>\n",
       "    </tr>\n",
       "    <tr>\n",
       "      <th>1373</th>\n",
       "      <td>fe6ff9a5</td>\n",
       "      <td>1</td>\n",
       "      <td>There has been a fuss about the Elector Colleg...</td>\n",
       "      <td>0</td>\n",
       "    </tr>\n",
       "    <tr>\n",
       "      <th>1374</th>\n",
       "      <td>ff669174</td>\n",
       "      <td>0</td>\n",
       "      <td>Limiting car usage has many advantages. Such a...</td>\n",
       "      <td>0</td>\n",
       "    </tr>\n",
       "    <tr>\n",
       "      <th>1375</th>\n",
       "      <td>ffa247e0</td>\n",
       "      <td>0</td>\n",
       "      <td>There's a new trend that has been developing f...</td>\n",
       "      <td>0</td>\n",
       "    </tr>\n",
       "    <tr>\n",
       "      <th>1376</th>\n",
       "      <td>ffc237e9</td>\n",
       "      <td>0</td>\n",
       "      <td>As we all know cars are a big part of our soci...</td>\n",
       "      <td>0</td>\n",
       "    </tr>\n",
       "    <tr>\n",
       "      <th>1377</th>\n",
       "      <td>ffe1ca0d</td>\n",
       "      <td>0</td>\n",
       "      <td>Cars have been around since the 1800's and hav...</td>\n",
       "      <td>0</td>\n",
       "    </tr>\n",
       "  </tbody>\n",
       "</table>\n",
       "<p>1378 rows × 4 columns</p>\n",
       "</div>"
      ],
      "text/plain": [
       "            id  prompt_id                                               text  \\\n",
       "0     0059830c          0  Cars. Cars have been around since they became ...   \n",
       "1     005db917          0  Transportation is a large necessity in most co...   \n",
       "2     008f63e3          0  \"America's love affair with it's vehicles seem...   \n",
       "3     00940276          0  How often do you ride in a car? Do you drive a...   \n",
       "4     00c39458          0  Cars are a wonderful thing. They are perhaps o...   \n",
       "...        ...        ...                                                ...   \n",
       "1373  fe6ff9a5          1  There has been a fuss about the Elector Colleg...   \n",
       "1374  ff669174          0  Limiting car usage has many advantages. Such a...   \n",
       "1375  ffa247e0          0  There's a new trend that has been developing f...   \n",
       "1376  ffc237e9          0  As we all know cars are a big part of our soci...   \n",
       "1377  ffe1ca0d          0  Cars have been around since the 1800's and hav...   \n",
       "\n",
       "      generated  \n",
       "0             0  \n",
       "1             0  \n",
       "2             0  \n",
       "3             0  \n",
       "4             0  \n",
       "...         ...  \n",
       "1373          0  \n",
       "1374          0  \n",
       "1375          0  \n",
       "1376          0  \n",
       "1377          0  \n",
       "\n",
       "[1378 rows x 4 columns]"
      ]
     },
     "execution_count": 12,
     "metadata": {},
     "output_type": "execute_result"
    }
   ],
   "source": [
    "train"
   ]
  },
  {
   "cell_type": "code",
   "execution_count": 13,
   "id": "948e685d",
   "metadata": {
    "execution": {
     "iopub.execute_input": "2023-12-10T22:13:43.984030Z",
     "iopub.status.busy": "2023-12-10T22:13:43.983183Z",
     "iopub.status.idle": "2023-12-10T22:13:43.995892Z",
     "shell.execute_reply": "2023-12-10T22:13:43.994929Z"
    },
    "papermill": {
     "duration": 0.028038,
     "end_time": "2023-12-10T22:13:43.998364",
     "exception": false,
     "start_time": "2023-12-10T22:13:43.970326",
     "status": "completed"
    },
    "tags": []
   },
   "outputs": [
    {
     "data": {
      "text/html": [
       "<div>\n",
       "<style scoped>\n",
       "    .dataframe tbody tr th:only-of-type {\n",
       "        vertical-align: middle;\n",
       "    }\n",
       "\n",
       "    .dataframe tbody tr th {\n",
       "        vertical-align: top;\n",
       "    }\n",
       "\n",
       "    .dataframe thead th {\n",
       "        text-align: right;\n",
       "    }\n",
       "</style>\n",
       "<table border=\"1\" class=\"dataframe\">\n",
       "  <thead>\n",
       "    <tr style=\"text-align: right;\">\n",
       "      <th></th>\n",
       "      <th>id</th>\n",
       "      <th>prompt_id</th>\n",
       "      <th>text</th>\n",
       "    </tr>\n",
       "  </thead>\n",
       "  <tbody>\n",
       "    <tr>\n",
       "      <th>0</th>\n",
       "      <td>0000aaaa</td>\n",
       "      <td>2</td>\n",
       "      <td>[Ġa, aa, Ġb, b, b, Ġc, cc, .]</td>\n",
       "    </tr>\n",
       "    <tr>\n",
       "      <th>1</th>\n",
       "      <td>1111bbbb</td>\n",
       "      <td>3</td>\n",
       "      <td>[Ġb, b, b, Ġc, cc, Ġd, dd, .]</td>\n",
       "    </tr>\n",
       "    <tr>\n",
       "      <th>2</th>\n",
       "      <td>2222cccc</td>\n",
       "      <td>4</td>\n",
       "      <td>[Ġc, cc, Ġd, dd, Ġe, ee, .]</td>\n",
       "    </tr>\n",
       "  </tbody>\n",
       "</table>\n",
       "</div>"
      ],
      "text/plain": [
       "         id  prompt_id                           text\n",
       "0  0000aaaa          2  [Ġa, aa, Ġb, b, b, Ġc, cc, .]\n",
       "1  1111bbbb          3  [Ġb, b, b, Ġc, cc, Ġd, dd, .]\n",
       "2  2222cccc          4    [Ġc, cc, Ġd, dd, Ġe, ee, .]"
      ]
     },
     "execution_count": 13,
     "metadata": {},
     "output_type": "execute_result"
    }
   ],
   "source": [
    "test"
   ]
  },
  {
   "cell_type": "markdown",
   "id": "09ac9180",
   "metadata": {
    "papermill": {
     "duration": 0.01071,
     "end_time": "2023-12-10T22:13:44.021135",
     "exception": false,
     "start_time": "2023-12-10T22:13:44.010425",
     "status": "completed"
    },
    "tags": []
   },
   "source": [
    "# Preprocessing with a TF-IDF Vectorizer"
   ]
  },
  {
   "cell_type": "code",
   "execution_count": 14,
   "id": "bfe25c47",
   "metadata": {
    "execution": {
     "iopub.execute_input": "2023-12-10T22:13:44.045953Z",
     "iopub.status.busy": "2023-12-10T22:13:44.044934Z",
     "iopub.status.idle": "2023-12-10T22:13:46.731822Z",
     "shell.execute_reply": "2023-12-10T22:13:46.730573Z"
    },
    "papermill": {
     "duration": 2.702666,
     "end_time": "2023-12-10T22:13:46.734775",
     "exception": false,
     "start_time": "2023-12-10T22:13:44.032109",
     "status": "completed"
    },
    "tags": []
   },
   "outputs": [],
   "source": [
    "def textReturn(text):\n",
    "    return text\n",
    "\n",
    "vect = TfidfVectorizer(ngram_range=(3, 5), tokenizer=textReturn, preprocessor=textReturn,\n",
    "                    sublinear_tf=True, token_pattern=None, lowercase=False,\n",
    "                    min_df=0.001)\n",
    "vect.fit(test['text'])\n",
    "vocab = vect.vocabulary_\n",
    "vect = TfidfVectorizer(ngram_range=(3, 5), tokenizer=textReturn, preprocessor=textReturn,\n",
    "                    sublinear_tf=True, token_pattern=None, lowercase=False,\n",
    "                    vocabulary=vocab)\n",
    "X_train = vect.fit_transform(train_df['text']).astype('float32')\n",
    "X_val = vect.fit_transform(val_df['text']).astype('float32')\n",
    "X_test = vect.fit_transform(test['text']).astype('float32')"
   ]
  },
  {
   "cell_type": "markdown",
   "id": "246ee54c",
   "metadata": {
    "papermill": {
     "duration": 0.011043,
     "end_time": "2023-12-10T22:13:46.756790",
     "exception": false,
     "start_time": "2023-12-10T22:13:46.745747",
     "status": "completed"
    },
    "tags": []
   },
   "source": [
    "# Model Building"
   ]
  },
  {
   "cell_type": "code",
   "execution_count": 15,
   "id": "5c9f25b1",
   "metadata": {
    "execution": {
     "iopub.execute_input": "2023-12-10T22:13:46.782013Z",
     "iopub.status.busy": "2023-12-10T22:13:46.781553Z",
     "iopub.status.idle": "2023-12-10T22:13:47.145760Z",
     "shell.execute_reply": "2023-12-10T22:13:47.144193Z"
    },
    "papermill": {
     "duration": 0.383582,
     "end_time": "2023-12-10T22:13:47.152000",
     "exception": false,
     "start_time": "2023-12-10T22:13:46.768418",
     "status": "completed"
    },
    "tags": []
   },
   "outputs": [
    {
     "name": "stdout",
     "output_type": "stream",
     "text": [
      "Model: \"sequential\"\n",
      "_________________________________________________________________\n",
      " Layer (type)                Output Shape              Param #   \n",
      "=================================================================\n",
      " dense (Dense)               (None, 32)                1088      \n",
      "                                                                 \n",
      " dropout (Dropout)           (None, 32)                0         \n",
      "                                                                 \n",
      " dense_1 (Dense)             (None, 64)                2112      \n",
      "                                                                 \n",
      " dropout_1 (Dropout)         (None, 64)                0         \n",
      "                                                                 \n",
      " dense_2 (Dense)             (None, 32)                2080      \n",
      "                                                                 \n",
      " dropout_2 (Dropout)         (None, 32)                0         \n",
      "                                                                 \n",
      " dense_3 (Dense)             (None, 1)                 33        \n",
      "                                                                 \n",
      "=================================================================\n",
      "Total params: 5313 (20.75 KB)\n",
      "Trainable params: 5313 (20.75 KB)\n",
      "Non-trainable params: 0 (0.00 Byte)\n",
      "_________________________________________________________________\n"
     ]
    }
   ],
   "source": [
    "model = Sequential([\n",
    "    Input(shape=(X_train.shape[1],), sparse=True),\n",
    "    Dense(32, activation='relu', kernel_initializer='he_normal'),\n",
    "    Dropout(0.3),\n",
    "    Dense(64, activation='relu', kernel_initializer='he_normal'),\n",
    "    Dropout(0.3),\n",
    "    Dense(32, activation='relu', kernel_initializer='he_normal'),\n",
    "    Dropout(0.3),\n",
    "    Dense(1, activation='sigmoid')\n",
    "])\n",
    "\n",
    "model.compile(optimizer='adam', loss='binary_crossentropy', metrics=['accuracy', AUC()])\n",
    "\n",
    "model.summary()"
   ]
  },
  {
   "cell_type": "code",
   "execution_count": 16,
   "id": "1dee15e8",
   "metadata": {
    "execution": {
     "iopub.execute_input": "2023-12-10T22:13:47.180752Z",
     "iopub.status.busy": "2023-12-10T22:13:47.180310Z",
     "iopub.status.idle": "2023-12-10T22:13:49.720949Z",
     "shell.execute_reply": "2023-12-10T22:13:49.719744Z"
    },
    "papermill": {
     "duration": 2.558563,
     "end_time": "2023-12-10T22:13:49.723824",
     "exception": false,
     "start_time": "2023-12-10T22:13:47.165261",
     "status": "completed"
    },
    "tags": []
   },
   "outputs": [
    {
     "name": "stdout",
     "output_type": "stream",
     "text": [
      "Epoch 1/10\n",
      "9/9 [==============================] - 2s 6ms/step - loss: 0.6913 - accuracy: 0.9982 - auc: 0.5000 \n",
      "Epoch 2/10\n",
      "9/9 [==============================] - 0s 4ms/step - loss: 0.6868 - accuracy: 0.9982 - auc: 0.6341\n",
      "Epoch 3/10\n",
      "9/9 [==============================] - 0s 4ms/step - loss: 0.6823 - accuracy: 0.9982 - auc: 0.5000\n",
      "Epoch 4/10\n",
      "9/9 [==============================] - 0s 4ms/step - loss: 0.6779 - accuracy: 0.9982 - auc: 0.2673\n",
      "Epoch 5/10\n",
      "9/9 [==============================] - 0s 4ms/step - loss: 0.6736 - accuracy: 0.9982 - auc: 0.5000\n",
      "Epoch 6/10\n",
      "9/9 [==============================] - 0s 4ms/step - loss: 0.6692 - accuracy: 0.9982 - auc: 0.4014\n",
      "Epoch 7/10\n",
      "9/9 [==============================] - 0s 4ms/step - loss: 0.6649 - accuracy: 0.9982 - auc: 0.5000\n",
      "Epoch 8/10\n",
      "9/9 [==============================] - 0s 4ms/step - loss: 0.6606 - accuracy: 0.9982 - auc: 0.5355\n",
      "Epoch 9/10\n",
      "9/9 [==============================] - 0s 4ms/step - loss: 0.6563 - accuracy: 0.9982 - auc: 0.5000\n",
      "Epoch 10/10\n",
      "9/9 [==============================] - 0s 4ms/step - loss: 0.6521 - accuracy: 0.9982 - auc: 0.5000\n",
      "9/9 [==============================] - 0s 2ms/step\n",
      "276\n"
     ]
    }
   ],
   "source": [
    "y_train = train_df['generated'].values\n",
    "early_stopping = tf.keras.callbacks.EarlyStopping(monitor='loss', patience=2)\n",
    "\n",
    "model.fit(X_train, y_train, batch_size=128, epochs=10, callbacks=[early_stopping])\n",
    "\n",
    "preds = model.predict(X_val)\n",
    "print(len(preds))"
   ]
  },
  {
   "cell_type": "code",
   "execution_count": 17,
   "id": "e0159f41",
   "metadata": {
    "execution": {
     "iopub.execute_input": "2023-12-10T22:13:49.758517Z",
     "iopub.status.busy": "2023-12-10T22:13:49.758111Z",
     "iopub.status.idle": "2023-12-10T22:13:49.768667Z",
     "shell.execute_reply": "2023-12-10T22:13:49.767053Z"
    },
    "papermill": {
     "duration": 0.031605,
     "end_time": "2023-12-10T22:13:49.771773",
     "exception": false,
     "start_time": "2023-12-10T22:13:49.740168",
     "status": "completed"
    },
    "tags": []
   },
   "outputs": [
    {
     "name": "stdout",
     "output_type": "stream",
     "text": [
      "0.5\n"
     ]
    }
   ],
   "source": [
    "y_val = val_df['generated'].values\n",
    "auc_score = roc_auc_score(y_val, preds)\n",
    "print(auc_score)"
   ]
  },
  {
   "cell_type": "code",
   "execution_count": 18,
   "id": "61084da1",
   "metadata": {
    "execution": {
     "iopub.execute_input": "2023-12-10T22:13:49.807701Z",
     "iopub.status.busy": "2023-12-10T22:13:49.806203Z",
     "iopub.status.idle": "2023-12-10T22:13:49.830881Z",
     "shell.execute_reply": "2023-12-10T22:13:49.829600Z"
    },
    "papermill": {
     "duration": 0.045373,
     "end_time": "2023-12-10T22:13:49.833619",
     "exception": false,
     "start_time": "2023-12-10T22:13:49.788246",
     "status": "completed"
    },
    "tags": []
   },
   "outputs": [
    {
     "name": "stdout",
     "output_type": "stream",
     "text": [
      "1/1 [==============================] - 0s 10ms/step\n"
     ]
    }
   ],
   "source": [
    "preds = model.predict(X_test)\n",
    "y_pred = [1 if prob > 0.5 else 0 for prob in preds]"
   ]
  },
  {
   "cell_type": "code",
   "execution_count": 19,
   "id": "eaa69708",
   "metadata": {
    "execution": {
     "iopub.execute_input": "2023-12-10T22:13:49.869690Z",
     "iopub.status.busy": "2023-12-10T22:13:49.868162Z",
     "iopub.status.idle": "2023-12-10T22:13:49.881156Z",
     "shell.execute_reply": "2023-12-10T22:13:49.880241Z"
    },
    "papermill": {
     "duration": 0.033405,
     "end_time": "2023-12-10T22:13:49.883656",
     "exception": false,
     "start_time": "2023-12-10T22:13:49.850251",
     "status": "completed"
    },
    "tags": []
   },
   "outputs": [
    {
     "data": {
      "text/html": [
       "<div>\n",
       "<style scoped>\n",
       "    .dataframe tbody tr th:only-of-type {\n",
       "        vertical-align: middle;\n",
       "    }\n",
       "\n",
       "    .dataframe tbody tr th {\n",
       "        vertical-align: top;\n",
       "    }\n",
       "\n",
       "    .dataframe thead th {\n",
       "        text-align: right;\n",
       "    }\n",
       "</style>\n",
       "<table border=\"1\" class=\"dataframe\">\n",
       "  <thead>\n",
       "    <tr style=\"text-align: right;\">\n",
       "      <th></th>\n",
       "      <th>id</th>\n",
       "      <th>generated</th>\n",
       "    </tr>\n",
       "  </thead>\n",
       "  <tbody>\n",
       "    <tr>\n",
       "      <th>0</th>\n",
       "      <td>0000aaaa</td>\n",
       "      <td>0.1</td>\n",
       "    </tr>\n",
       "    <tr>\n",
       "      <th>1</th>\n",
       "      <td>1111bbbb</td>\n",
       "      <td>0.9</td>\n",
       "    </tr>\n",
       "    <tr>\n",
       "      <th>2</th>\n",
       "      <td>2222cccc</td>\n",
       "      <td>0.4</td>\n",
       "    </tr>\n",
       "  </tbody>\n",
       "</table>\n",
       "</div>"
      ],
      "text/plain": [
       "         id  generated\n",
       "0  0000aaaa        0.1\n",
       "1  1111bbbb        0.9\n",
       "2  2222cccc        0.4"
      ]
     },
     "execution_count": 19,
     "metadata": {},
     "output_type": "execute_result"
    }
   ],
   "source": [
    "submission.head()"
   ]
  },
  {
   "cell_type": "code",
   "execution_count": 20,
   "id": "3cab599a",
   "metadata": {
    "execution": {
     "iopub.execute_input": "2023-12-10T22:13:49.919460Z",
     "iopub.status.busy": "2023-12-10T22:13:49.918979Z",
     "iopub.status.idle": "2023-12-10T22:13:49.925040Z",
     "shell.execute_reply": "2023-12-10T22:13:49.924102Z"
    },
    "papermill": {
     "duration": 0.02683,
     "end_time": "2023-12-10T22:13:49.927389",
     "exception": false,
     "start_time": "2023-12-10T22:13:49.900559",
     "status": "completed"
    },
    "tags": []
   },
   "outputs": [],
   "source": [
    "submission['generated'] = y_pred"
   ]
  },
  {
   "cell_type": "code",
   "execution_count": 21,
   "id": "985dabf7",
   "metadata": {
    "execution": {
     "iopub.execute_input": "2023-12-10T22:13:49.965081Z",
     "iopub.status.busy": "2023-12-10T22:13:49.963521Z",
     "iopub.status.idle": "2023-12-10T22:13:49.975389Z",
     "shell.execute_reply": "2023-12-10T22:13:49.974199Z"
    },
    "papermill": {
     "duration": 0.033145,
     "end_time": "2023-12-10T22:13:49.977892",
     "exception": false,
     "start_time": "2023-12-10T22:13:49.944747",
     "status": "completed"
    },
    "tags": []
   },
   "outputs": [
    {
     "data": {
      "text/html": [
       "<div>\n",
       "<style scoped>\n",
       "    .dataframe tbody tr th:only-of-type {\n",
       "        vertical-align: middle;\n",
       "    }\n",
       "\n",
       "    .dataframe tbody tr th {\n",
       "        vertical-align: top;\n",
       "    }\n",
       "\n",
       "    .dataframe thead th {\n",
       "        text-align: right;\n",
       "    }\n",
       "</style>\n",
       "<table border=\"1\" class=\"dataframe\">\n",
       "  <thead>\n",
       "    <tr style=\"text-align: right;\">\n",
       "      <th></th>\n",
       "      <th>id</th>\n",
       "      <th>generated</th>\n",
       "    </tr>\n",
       "  </thead>\n",
       "  <tbody>\n",
       "    <tr>\n",
       "      <th>0</th>\n",
       "      <td>0000aaaa</td>\n",
       "      <td>1</td>\n",
       "    </tr>\n",
       "    <tr>\n",
       "      <th>1</th>\n",
       "      <td>1111bbbb</td>\n",
       "      <td>1</td>\n",
       "    </tr>\n",
       "    <tr>\n",
       "      <th>2</th>\n",
       "      <td>2222cccc</td>\n",
       "      <td>1</td>\n",
       "    </tr>\n",
       "  </tbody>\n",
       "</table>\n",
       "</div>"
      ],
      "text/plain": [
       "         id  generated\n",
       "0  0000aaaa          1\n",
       "1  1111bbbb          1\n",
       "2  2222cccc          1"
      ]
     },
     "execution_count": 21,
     "metadata": {},
     "output_type": "execute_result"
    }
   ],
   "source": [
    "submission"
   ]
  },
  {
   "cell_type": "code",
   "execution_count": 22,
   "id": "8580b69d",
   "metadata": {
    "execution": {
     "iopub.execute_input": "2023-12-10T22:13:50.113200Z",
     "iopub.status.busy": "2023-12-10T22:13:50.111834Z",
     "iopub.status.idle": "2023-12-10T22:13:50.122290Z",
     "shell.execute_reply": "2023-12-10T22:13:50.121168Z"
    },
    "papermill": {
     "duration": 0.033074,
     "end_time": "2023-12-10T22:13:50.125304",
     "exception": false,
     "start_time": "2023-12-10T22:13:50.092230",
     "status": "completed"
    },
    "tags": []
   },
   "outputs": [],
   "source": [
    "submission.to_csv('submission.csv', index=False)"
   ]
  },
  {
   "cell_type": "code",
   "execution_count": null,
   "id": "b0265bb6",
   "metadata": {
    "papermill": {
     "duration": 0.017208,
     "end_time": "2023-12-10T22:13:50.159998",
     "exception": false,
     "start_time": "2023-12-10T22:13:50.142790",
     "status": "completed"
    },
    "tags": []
   },
   "outputs": [],
   "source": []
  }
 ],
 "metadata": {
  "kaggle": {
   "accelerator": "none",
   "dataSources": [
    {
     "databundleVersionId": 6888007,
     "sourceId": 61542,
     "sourceType": "competition"
    }
   ],
   "dockerImageVersionId": 30615,
   "isGpuEnabled": false,
   "isInternetEnabled": true,
   "language": "python",
   "sourceType": "notebook"
  },
  "kernelspec": {
   "display_name": "Python 3",
   "language": "python",
   "name": "python3"
  },
  "language_info": {
   "codemirror_mode": {
    "name": "ipython",
    "version": 3
   },
   "file_extension": ".py",
   "mimetype": "text/x-python",
   "name": "python",
   "nbconvert_exporter": "python",
   "pygments_lexer": "ipython3",
   "version": "3.10.12"
  },
  "papermill": {
   "default_parameters": {},
   "duration": 40.657415,
   "end_time": "2023-12-10T22:13:53.111171",
   "environment_variables": {},
   "exception": null,
   "input_path": "__notebook__.ipynb",
   "output_path": "__notebook__.ipynb",
   "parameters": {},
   "start_time": "2023-12-10T22:13:12.453756",
   "version": "2.4.0"
  }
 },
 "nbformat": 4,
 "nbformat_minor": 5
}
